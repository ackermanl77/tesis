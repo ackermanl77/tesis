{
 "cells": [
  {
   "cell_type": "code",
   "execution_count": 1,
   "metadata": {
    "pycharm": {
     "name": "#%%\n"
    }
   },
   "outputs": [],
   "source": [
    "from __future__ import absolute_import\n",
    "from sage.graphs.connectivity import TriconnectivitySPQR\n",
    "from sage.graphs.connectivity import spqr_tree_to_graph\n",
    "from sage.graphs.graph_latex import check_tkz_graph\n",
    "from sage.graphs.graph import Graph\n",
    "from sage.rings.integer import Integer"
   ]
  },
  {
   "cell_type": "code",
   "execution_count": 2,
   "metadata": {
    "collapsed": false,
    "jupyter": {
     "outputs_hidden": false
    },
    "pycharm": {
     "name": "#%%\n"
    }
   },
   "outputs": [],
   "source": [
    "from operator import itemgetter\n",
    "import pandas as pd\n",
    "import itertools\n",
    "import os\n",
    "import networkx as nx\n",
    "from networkx.drawing.nx_pydot import to_pydot\n",
    "from graphviz import Source\n",
    "import matplotlib.pyplot as plt\n",
    "import warnings\n",
    "warnings.filterwarnings('ignore')"
   ]
  },
  {
   "cell_type": "code",
   "execution_count": 3,
   "metadata": {
    "collapsed": false,
    "jupyter": {
     "outputs_hidden": false
    },
    "pycharm": {
     "name": "#%%\n"
    }
   },
   "outputs": [],
   "source": [
    "class _LinkedListNode:\n",
    "\n",
    "\tdef __init__(self, data=None):\n",
    "\n",
    "\t\tself.data = data\n",
    "\t\tself.prev = None\n",
    "\t\tself.next = None\n",
    "\t\tself.set_data(self.data)\n",
    "\n",
    "\tdef set_data(self, data):\n",
    "\t\tself.data = data\n",
    "\n",
    "\tdef get_data(self):\n",
    "\t\treturn self.data"
   ]
  },
  {
   "cell_type": "code",
   "execution_count": 4,
   "metadata": {
    "collapsed": false,
    "jupyter": {
     "outputs_hidden": false
    },
    "pycharm": {
     "name": "#%%\n"
    }
   },
   "outputs": [],
   "source": [
    "class _LinkedList:\n",
    "\n",
    "\tdef __init__(self):\n",
    "\n",
    "\t\tself.head = None\n",
    "\t\tself.tail = None\n",
    "\t\tself.length = 0\n",
    "\n",
    "\tdef remove(self, node):\n",
    "\n",
    "\t\tif node.prev is None and node.next is None:\n",
    "\t\t\tself.head = None\n",
    "\t\t\tself.tail = None\n",
    "\t\telif node.prev is None:\n",
    "\t\t\tself.head = node.next\n",
    "\t\t\tnode.next.prev = None\n",
    "\t\telif node.next is None:\n",
    "\t\t\tnode.prev.next = None\n",
    "\t\t\tself.tail = node.prev\n",
    "\t\telse:\n",
    "\t\t\tnode.prev.next = node.next\n",
    "\t\t\tnode.next.prev = node.prev\n",
    "\t\tself.length -= 1\n",
    "\n",
    "\tdef set_head(self, h):\n",
    "\n",
    "\t\tself.head = h\n",
    "\t\tself.tail = h\n",
    "\t\tself.length = 1\n",
    "\n",
    "\tdef append(self, node):\n",
    "\n",
    "\t\tif self.head is None:\n",
    "\t\t\tself.set_head(node)\n",
    "\t\telse:\n",
    "\t\t\tself.tail.next = node\n",
    "\t\t\tnode.prev = self.tail\n",
    "\t\t\tself.tail = node\n",
    "\t\t\tself.length += 1\n",
    "\n",
    "\tdef get_head(self):\n",
    "\t\treturn self.head\n",
    "\n",
    "\tdef get_length(self):\n",
    "\t\treturn self.length\n",
    "\n",
    "\tdef push_front(self, node):\n",
    "\n",
    "\t\tif self.head is None:\n",
    "\t\t\tself.set_head(node)\n",
    "\t\telse:\n",
    "\t\t\tself.head.prev = node\n",
    "\t\t\tnode.next = self.head\n",
    "\t\t\tself.head = node\n",
    "\t\t\tself.length += 1\n",
    "\n",
    "\tdef to_string(self):\n",
    "\n",
    "\t\ttemp = self.head\n",
    "\t\ts = \"\"\n",
    "\t\twhile temp:\n",
    "\t\t\ts += \"  \" + str(temp.get_data())\n",
    "\t\t\ttemp = temp.next\n",
    "\t\treturn s\n",
    "\n",
    "\tdef concatenate(self, lst2):\n",
    "\n",
    "\t\tself.tail.next = lst2.head\n",
    "\t\tlst2.head.prev = self.tail\n",
    "\t\tself.tail = lst2.tail\n",
    "\t\tself.length += lst2.length\n",
    "\t\tlst2.head = None\n",
    "\t\tlst2.length = 0"
   ]
  },
  {
   "cell_type": "code",
   "execution_count": 5,
   "metadata": {
    "collapsed": false,
    "jupyter": {
     "outputs_hidden": false
    },
    "pycharm": {
     "name": "#%%\n"
    }
   },
   "outputs": [],
   "source": [
    "class _Component:\n",
    "\n",
    "\tdef __init__(self, edge_list, type_c):\n",
    "\n",
    "\t\tself.edge_list = _LinkedList()\n",
    "\t\tfor e in edge_list:\n",
    "\t\t\tself.add_edge(e)\n",
    "\t\tself.component_type = type_c\n",
    "\n",
    "\tdef add_edge(self, e):\n",
    "\t\tself.edge_list.append(_LinkedListNode(e))\n",
    "\n",
    "\tdef finish_tric_or_poly(self, e):\n",
    "\n",
    "\t\tself.add_edge(e)\n",
    "\t\tif self.edge_list.get_length() > 3:\n",
    "\t\t\tself.component_type = 2\n",
    "\t\telse:\n",
    "\t\t\tself.component_type = 1\n",
    "\n",
    "\tdef __str__(self):\n",
    "\n",
    "\t\tif self.component_type == 0:\n",
    "\t\t\ttype_str = \"Bond: \"\n",
    "\t\telif self.component_type == 1:\n",
    "\t\t\ttype_str =  \"Polygon: \"\n",
    "\t\telse:\n",
    "\t\t\ttype_str = \"Triconnected: \"\n",
    "\t\treturn type_str + self.edge_list.to_string()\n",
    "\n",
    "\tdef get_edge_list(self):\n",
    "\n",
    "\t\te_list = []\n",
    "\t\te_node = self.edge_list.get_head()\n",
    "\t\twhile e_node:\n",
    "\t\t\te_list.append(e_node.get_data())\n",
    "\t\t\te_node = e_node.next\n",
    "\t\treturn e_list"
   ]
  },
  {
   "cell_type": "code",
   "execution_count": 6,
   "outputs": [],
   "source": [
    "class TriconnectivitySPQR:\n",
    "\n",
    "\tdef __init__(self, G, check=True):\n",
    "\n",
    "\t\tself.n = G.order()\n",
    "\t\tself.m = G.size()\n",
    "\t\tself.graph_name = G.name()\n",
    "\n",
    "\n",
    "\t\tif self.n < 2:\n",
    "\t\t\traise ValueError(\"Grafo no es biconexo\")\n",
    "\t\telif self.n == 2 and self.m:\n",
    "\n",
    "\t\t\tself.comp_list_new = [G.edges()]\n",
    "\t\t\tself.comp_type = [0]\n",
    "\t\t\tself.__build_spqr_tree()\n",
    "\t\t\treturn\n",
    "\t\telif self.m < self.n -1:\n",
    "\n",
    "\t\t\traise ValueError(\"Grafo no es conexo\")\n",
    "\t\telif self.m < self.n:\n",
    "\n",
    "\t\t\traise ValueError(\"Grafo no es biconexo\")\n",
    "\n",
    "\t\tself.int_to_vertex = G.vertices()\n",
    "\t\tself.vertex_to_int = {u:i for i,u in enumerate(self.int_to_vertex)}\n",
    "\t\tself.int_to_original_edge_label = []\n",
    "\t\tself.graph_copy = Graph(self.n, multiedges=True)\n",
    "\t\tfor i,(u, v, l) in enumerate(G.edge_iterator()):\n",
    "\t\t\tself.graph_copy.add_edge(self.vertex_to_int[u], self.vertex_to_int[v], i)\n",
    "\t\t\tself.int_to_original_edge_label.append(l)\n",
    "\n",
    "\n",
    "\t\tself.edge_status = {e: 0 for e in self.graph_copy.edge_iterator()}\n",
    "\n",
    "\n",
    "\t\tself.reverse_edges = set()\n",
    "\n",
    "\t\tself.dfs_number = [0 for i in range(self.n+1)]\n",
    "\n",
    "\n",
    "\t\tself.highpt = [_LinkedList() for i in range(self.n)]\n",
    "\n",
    "\n",
    "\t\tself.in_high = {e:None for e in self.graph_copy.edge_iterator()}\n",
    "\n",
    "\n",
    "\t\tself.old_to_new = [0 for i in range(self.n+1)]\n",
    "\t\tself.newnum = [0 for i in range(self.n)]\n",
    "\t\tself.node_at = [0 for i in range(self.n+1)]\n",
    "\t\tself.lowpt1 = [None for i in range(self.n)]\n",
    "\t\tself.lowpt2 = [None for i in range(self.n)]\n",
    "\n",
    "\n",
    "\t\tself.adj = [_LinkedList() for i in range(self.n)]\n",
    "\n",
    "\n",
    "\t\tself.in_adj = {}\n",
    "\t\tself.nd = [None for i in range(self.n)]\n",
    "\n",
    "\n",
    "\t\tself.parent = [None for i in range(self.n)]\n",
    "\t\tself.degree = [None for i in range(self.n)]\n",
    "\t\tself.tree_arc = [None for i in range(self.n)]\n",
    "\t\tself.vertex_at = [1 for i in range(self.n)]\n",
    "\t\tself.dfs_counter = 0\n",
    "\t\tself.components_list = []\n",
    "\t\tself.graph_copy_adjacency = [[] for i in range(self.n)]\n",
    "\n",
    "\n",
    "\t\tself.starts_path = {e:False for e in self.graph_copy.edge_iterator()}\n",
    "\n",
    "\t\tself.is_biconnected = True\n",
    "\t\tself.cut_vertex = None\n",
    "\n",
    "\n",
    "\t\tself.virtual_edge_num = 0\n",
    "\n",
    "\t\tself.virtual_edges = set()\n",
    "\n",
    "\t\tself.new_path = False\n",
    "\n",
    "\n",
    "\t\tself.e_stack = []\n",
    "\t\tself.t_stack_h = [None for i in range(2*self.m + 1)]\n",
    "\t\tself.t_stack_a = [None for i in range(2*self.m + 1)]\n",
    "\t\tself.t_stack_b = [None for i in range(2*self.m + 1)]\n",
    "\t\tself.t_stack_top = 0\n",
    "\t\tself.t_stack_a[self.t_stack_top] = -1\n",
    "\n",
    "\n",
    "\t\tself.comp_list_new = []\n",
    "\t\tself.comp_type = []\n",
    "\n",
    "\t\tself.spqr_tree = None\n",
    "\n",
    "\t\tself.type1 = []\n",
    "\t\tself.type2 = []\n",
    "\n",
    "\t\tfor e in self.graph_copy.edge_iterator():\n",
    "\t\t\tself.graph_copy_adjacency[e[0]].append(e)\n",
    "\t\t\tself.graph_copy_adjacency[e[1]].append(e)\n",
    "\n",
    "\t\tself.dfs_counter = 0\n",
    "\t\tself.start_vertex = 0\n",
    "\t\tself.cut_vertex = self.__dfs1(self.start_vertex, check=check)\n",
    "\n",
    "\t\tif check:\n",
    "\n",
    "\t\t\tif self.dfs_counter < self.n:\n",
    "\t\t\t\traise ValueError(\"Graph is not connected\")\n",
    "\n",
    "\t\t\tif self.cut_vertex is not None:\n",
    "\t\t\t\traise ValueError(\"Graph has a cut vertex\")\n",
    "\n",
    "\n",
    "\t\tfor e in self.graph_copy.edge_iterator():\n",
    "\t\t\tup = (self.dfs_number[e[1]] - self.dfs_number[e[0]]) > 0\n",
    "\t\t\tif (up and self.edge_status[e]==2) or (not up and self.edge_status[e]==1):\n",
    "\n",
    "\t\t\t\tself.reverse_edges.add(e)\n",
    "\n",
    "\t\tself.__build_acceptable_adj_struct()\n",
    "\t\tself.__dfs2()\n",
    "\n",
    "\t\tself.__path_search(self.start_vertex)\n",
    "\n",
    "\t\tif self.e_stack:\n",
    "\t\t\te = self.__estack_pop()\n",
    "\t\t\tc = _Component(self.e_stack, 0)\n",
    "\t\t\tc.finish_tric_or_poly(e)\n",
    "\t\t\tself.components_list.append(c)\n",
    "\n",
    "\t\tself.__print_split()\n",
    "\t\tself.__assemble_triconnected_components()\n",
    "\n",
    "\t\tself.__build_spqr_tree()\n",
    "\n",
    "\tdef __tstack_push(self, h, a, b):\n",
    "\n",
    "\t\tself.t_stack_top += 1\n",
    "\t\tself.t_stack_h[self.t_stack_top] = h\n",
    "\t\tself.t_stack_a[self.t_stack_top] = a\n",
    "\t\tself.t_stack_b[self.t_stack_top] = b\n",
    "\n",
    "\tdef __tstack_push_eos(self):\n",
    "\n",
    "\t\tself.t_stack_top += 1\n",
    "\t\tself.t_stack_a[self.t_stack_top] = -1\n",
    "\n",
    "\tdef __tstack_not_eos(self):\n",
    "\n",
    "\t\treturn self.t_stack_a[self.t_stack_top] != -1\n",
    "\n",
    "\tdef __tstack_print(self):\n",
    "\n",
    "\t\treturn self.t_stack_a, self.t_stack_b, self.t_stack_h\n",
    "\n",
    "\tdef __estack_pop(self):\n",
    "\n",
    "\t\treturn self.e_stack.pop()\n",
    "\n",
    "\tdef __estack_print(self):\n",
    "\n",
    "\t\treturn self.e_stack\n",
    "\n",
    "\tdef __new_component(self, edges=[], type_c=0):\n",
    "\n",
    "\t\tc = _Component(edges, type_c)\n",
    "\t\tself.components_list.append(c)\n",
    "\t\treturn c\n",
    "\n",
    "\tdef __new_virtual_edge(self, u, v):\n",
    "\n",
    "\t\te = (u, v, \"newVEdge\"+str(self.virtual_edge_num))\n",
    "\t\tself.virtual_edge_num += 1\n",
    "\t\tself.virtual_edges.add(e)\n",
    "\t\treturn e\n",
    "\n",
    "\tdef __high(self, v):\n",
    "\n",
    "\t\thead = self.highpt[v].get_head()\n",
    "\t\tif head is None:\n",
    "\t\t\treturn 0\n",
    "\t\telse:\n",
    "\t\t\treturn head.get_data()\n",
    "\n",
    "\tdef __del_high(self, e):\n",
    "\n",
    "\t\tif e in self.in_high:\n",
    "\t\t\tit = self.in_high[e]\n",
    "\t\t\tif it:\n",
    "\t\t\t\tif e in self.reverse_edges:\n",
    "\t\t\t\t\tv = e[0]\n",
    "\t\t\t\telse:\n",
    "\t\t\t\t\tv = e[1]\n",
    "\t\t\t\tself.highpt[v].remove(it)\n",
    "\n",
    "\tdef __bucket_sort(self, bucket, edge_list):\n",
    "\n",
    "\t\tif len(bucket) == 1:\n",
    "\t\t\treturn\n",
    "\n",
    "\t\tbucket_list = []\n",
    "\t\tfor i in range(self.n):\n",
    "\t\t\tbucket_list.append(_LinkedList())\n",
    "\n",
    "\t\te_node = edge_list.head\n",
    "\n",
    "\t\t# Link the n buckets w.r.t bucketId\n",
    "\t\twhile e_node:\n",
    "\t\t\tbucketId = bucket[e_node.get_data()]\n",
    "\t\t\tif bucket_list[bucketId].get_head():\n",
    "\t\t\t\tbucket_list[bucketId].tail.next = e_node\n",
    "\t\t\t\tbucket_list[bucketId].tail = bucket_list[bucketId].tail.next\n",
    "\t\t\telse:\n",
    "\t\t\t\tbucket_list[bucketId].set_head(e_node)\n",
    "\t\t\te_node = e_node.next\n",
    "\n",
    "\t\t# Rearrange the `edge_list` Using bucket list\n",
    "\t\tnew_tail = None\n",
    "\t\tfor i in range(self.n):\n",
    "\t\t\tnew_head = bucket_list[i].get_head()\n",
    "\t\t\tif new_head:\n",
    "\t\t\t\tif new_tail:\n",
    "\t\t\t\t\tnew_tail.next = new_head\n",
    "\t\t\t\telse:\n",
    "\t\t\t\t\tedge_list.set_head(new_head)\n",
    "\t\t\t\tnew_tail = bucket_list[i].tail\n",
    "\n",
    "\t\tedge_list.tail = new_tail\n",
    "\t\tnew_tail.next = None\n",
    "\n",
    "\tdef __sort_edges(self):\n",
    "\n",
    "\n",
    "\t\tedge_list = _LinkedList()\n",
    "\t\tfor e in self.graph_copy.edges(sort=False):\n",
    "\t\t\tedge_list.append(_LinkedListNode(e))\n",
    "\n",
    "\t\tbucketMin = {}\n",
    "\t\tbucketMax = {}\n",
    "\n",
    "\t\tfor e in self.graph_copy.edge_iterator():\n",
    "\t\t\tbucketMin[e] = e[0]\n",
    "\t\t\tbucketMax[e] = e[1]\n",
    "\n",
    "\t\tself.__bucket_sort(bucketMin, edge_list)\n",
    "\t\tself.__bucket_sort(bucketMax, edge_list)\n",
    "\n",
    "\t\treturn edge_list.get_head()\n",
    "\n",
    "\tdef __dfs1(self, v, u=None, check=True):\n",
    "\n",
    "\t\tfirst_son = None\n",
    "\t\ts1 = None\n",
    "\t\tself.dfs_counter += 1\n",
    "\t\tself.dfs_number[v] = self.dfs_counter\n",
    "\t\tself.parent[v] = u\n",
    "\t\tself.degree[v] = self.graph_copy.degree(v)\n",
    "\t\tself.lowpt1[v] = self.lowpt2[v] = self.dfs_number[v]\n",
    "\t\tself.nd[v] = 1\n",
    "\t\tfor e in self.graph_copy_adjacency[v]:\n",
    "\t\t\tif self.edge_status[e]:\n",
    "\t\t\t\tcontinue\n",
    "\n",
    "\t\t\tw = e[0] if e[0] != v else e[1]\n",
    "\t\t\tif self.dfs_number[w] == 0:\n",
    "\t\t\t\tself.edge_status[e] = 1\n",
    "\t\t\t\tif first_son is None:\n",
    "\t\t\t\t\tfirst_son = w\n",
    "\t\t\t\tself.tree_arc[w] = e\n",
    "\t\t\t\ts1 = self.__dfs1(w, v, check)\n",
    "\n",
    "\t\t\t\tif check:\n",
    "\n",
    "\t\t\t\t\tif (self.lowpt1[w] >= self.dfs_number[v]) and (w != first_son or u != None):\n",
    "\t\t\t\t\t\ts1 = v\n",
    "\n",
    "\t\t\t\tif self.lowpt1[w] < self.lowpt1[v]:\n",
    "\t\t\t\t\tself.lowpt2[v] = min(self.lowpt1[v], self.lowpt2[w])\n",
    "\t\t\t\t\tself.lowpt1[v] = self.lowpt1[w]\n",
    "\n",
    "\t\t\t\telif self.lowpt1[w] == self.lowpt1[v]:\n",
    "\t\t\t\t\tself.lowpt2[v] = min(self.lowpt2[v], self.lowpt2[w])\n",
    "\n",
    "\t\t\t\telse:\n",
    "\t\t\t\t\tself.lowpt2[v] = min(self.lowpt2[v], self.lowpt1[w])\n",
    "\n",
    "\t\t\t\tself.nd[v] += self.nd[w]\n",
    "\n",
    "\t\t\telse:\n",
    "\t\t\t\tself.edge_status[e] = 2\n",
    "\t\t\t\tif self.dfs_number[w] < self.lowpt1[v]:\n",
    "\t\t\t\t\tself.lowpt2[v] = self.lowpt1[v]\n",
    "\t\t\t\t\tself.lowpt1[v] = self.dfs_number[w]\n",
    "\t\t\t\telif self.dfs_number[w] > self.lowpt1[v]:\n",
    "\t\t\t\t\tself.lowpt2[v] = min(self.lowpt2[v], self.dfs_number[w])\n",
    "\n",
    "\t\treturn s1\n",
    "\n",
    "\n",
    "\tdef __build_acceptable_adj_struct(self):\n",
    "\n",
    "\t\tmax_size = 3*self.n + 2\n",
    "\t\tbucket = [[] for _ in range(max_size + 1)]\n",
    "\n",
    "\t\tfor e in self.graph_copy.edge_iterator():\n",
    "\t\t\tedge_type = self.edge_status[e]\n",
    "\n",
    "\t\t\tif e in self.reverse_edges:\n",
    "\t\t\t\tif edge_type == 1:\n",
    "\t\t\t\t\tif self.lowpt2[e[0]] < self.dfs_number[e[1]]:\n",
    "\t\t\t\t\t\tphi = 3*self.lowpt1[e[0]]\n",
    "\t\t\t\t\telse:\n",
    "\t\t\t\t\t\tphi = 3*self.lowpt1[e[0]] + 2\n",
    "\t\t\t\telse:\n",
    "\t\t\t\t\tphi = 3*self.dfs_number[e[0]]+1\n",
    "\t\t\telse:\n",
    "\t\t\t\tif edge_type == 1:\n",
    "\t\t\t\t\tif self.lowpt2[e[1]] < self.dfs_number[e[0]]:\n",
    "\t\t\t\t\t\tphi = 3*self.lowpt1[e[1]]\n",
    "\t\t\t\t\telse:\n",
    "\t\t\t\t\t\tphi = 3*self.lowpt1[e[1]] + 2\n",
    "\t\t\t\telse:\n",
    "\t\t\t\t\tphi = 3*self.dfs_number[e[1]]+1\n",
    "\n",
    "\t\t\tbucket[phi].append(e)\n",
    "\n",
    "\t\tfor i in range(1, max_size + 1):\n",
    "\t\t\tfor e in bucket[i]:\n",
    "\t\t\t\tnode = _LinkedListNode(e)\n",
    "\t\t\t\tif e in self.reverse_edges:\n",
    "\t\t\t\t\tself.adj[e[1]].append(node)\n",
    "\t\t\t\t\tself.in_adj[e] = node\n",
    "\t\t\t\telse:\n",
    "\t\t\t\t\tself.adj[e[0]].append(node)\n",
    "\t\t\t\t\tself.in_adj[e] = node\n",
    "\n",
    "\tdef __path_finder(self, v):\n",
    "\n",
    "\t\tself.newnum[v] = self.dfs_counter - self.nd[v] + 1\n",
    "\t\te_node = self.adj[v].get_head()\n",
    "\t\twhile e_node:\n",
    "\t\t\te = e_node.get_data()\n",
    "\t\t\te_node = e_node.next\n",
    "\t\t\tw = e[1] if e[0] == v else e[0]\n",
    "\t\t\tif self.new_path:\n",
    "\t\t\t\tself.new_path = False\n",
    "\t\t\t\tself.starts_path[e] = True\n",
    "\t\t\tif self.edge_status[e] == 1:\n",
    "\t\t\t\tself.__path_finder(w)\n",
    "\t\t\t\tself.dfs_counter -= 1\n",
    "\t\t\telse:\n",
    "\n",
    "\t\t\t\thighpt_node = _LinkedListNode(self.newnum[v])\n",
    "\t\t\t\tself.highpt[w].append(highpt_node)\n",
    "\t\t\t\tself.in_high[e] = highpt_node\n",
    "\t\t\t\tself.new_path = True\n",
    "\n",
    "\n",
    "\tdef __dfs2(self):\n",
    "\n",
    "\t\tself.in_high = {e:None for e in self.graph_copy.edge_iterator()}\n",
    "\t\tself.dfs_counter = self.n\n",
    "\t\tself.newnum = [0 for i in range(self.n)]\n",
    "\t\tself.starts_path = {e:False for e in self.graph_copy.edge_iterator()}\n",
    "\n",
    "\t\tself.new_path = True\n",
    "\n",
    "\t\tself.__path_finder(self.start_vertex)\n",
    "\n",
    "\t\tfor v in self.graph_copy.vertex_iterator():\n",
    "\t\t\tself.old_to_new[self.dfs_number[v]] = self.newnum[v]\n",
    "\n",
    "\t\tfor v in self.graph_copy.vertex_iterator():\n",
    "\t\t\tself.node_at[self.newnum[v]] = v\n",
    "\t\t\tself.lowpt1[v] = self.old_to_new[self.lowpt1[v]]\n",
    "\t\t\tself.lowpt2[v] = self.old_to_new[self.lowpt2[v]]\n",
    "\n",
    "\tdef __path_search(self, v):\n",
    "\n",
    "\t\ty = 0\n",
    "\t\tvnum = self.newnum[v]\n",
    "\t\toutv = self.adj[v].get_length()\n",
    "\t\te_node = self.adj[v].get_head()\n",
    "\t\twhile e_node:\n",
    "\t\t\te = e_node.get_data()\n",
    "\t\t\tit = e_node\n",
    "\n",
    "\t\t\tif e in self.reverse_edges:\n",
    "\t\t\t\tw = e[0]\n",
    "\t\t\telse:\n",
    "\t\t\t\tw = e[1]\n",
    "\t\t\twnum = self.newnum[w]\n",
    "\t\t\tif self.edge_status[e] == 1:\n",
    "\t\t\t\tif self.starts_path[e]:\n",
    "\t\t\t\t\ty = 0\n",
    "\n",
    "\t\t\t\t\tif self.t_stack_a[self.t_stack_top] > self.lowpt1[w]:\n",
    "\t\t\t\t\t\twhile self.t_stack_a[self.t_stack_top] > self.lowpt1[w]:\n",
    "\t\t\t\t\t\t\ty = max(y, self.t_stack_h[self.t_stack_top])\n",
    "\t\t\t\t\t\t\tb = self.t_stack_b[self.t_stack_top]\n",
    "\t\t\t\t\t\t\tself.t_stack_top -= 1\n",
    "\t\t\t\t\t\tself.__tstack_push(y, self.lowpt1[w], b)\n",
    "\n",
    "\t\t\t\t\telse:\n",
    "\t\t\t\t\t\tself.__tstack_push(wnum + self.nd[w] - 1, self.lowpt1[w], vnum)\n",
    "\t\t\t\t\tself.__tstack_push_eos()\n",
    "\n",
    "\t\t\t\tself.__path_search(w)\n",
    "\n",
    "\t\t\t\tself.e_stack.append(self.tree_arc[w])\n",
    "\t\t\t\ttemp_node = self.adj[w].get_head()\n",
    "\t\t\t\ttemp = temp_node.get_data()\n",
    "\t\t\t\tif temp in self.reverse_edges:\n",
    "\t\t\t\t\ttemp_target = temp[0]\n",
    "\t\t\t\telse:\n",
    "\t\t\t\t\ttemp_target = temp[1]\n",
    "\n",
    "\t\t\t\twhile vnum != 1 and ((self.t_stack_a[self.t_stack_top] == vnum) or\n",
    "\t\t\t\t\t\t\t\t\t (self.degree[w] == 2 and self.newnum[temp_target] > wnum)):\n",
    "\n",
    "\t\t\t\t\ta = self.t_stack_a[self.t_stack_top]\n",
    "\t\t\t\t\tb = self.t_stack_b[self.t_stack_top]\n",
    "\t\t\t\t\te_virt = None\n",
    "\t\t\t\t\tif a == vnum and self.parent[self.node_at[b]] == self.node_at[a]:\n",
    "\t\t\t\t\t\tself.t_stack_top -= 1\n",
    "\n",
    "\t\t\t\t\telse:\n",
    "\t\t\t\t\t\te_ab = None\n",
    "\t\t\t\t\t\tif self.degree[w] == 2 and self.newnum[temp_target] > wnum:\n",
    "\n",
    "\t\t\t\t\t\t\tself.type2.append((v+1, temp_target+1))\n",
    "\t\t\t\t\t\t\te1 = self.__estack_pop()\n",
    "\t\t\t\t\t\t\te2 = self.__estack_pop()\n",
    "\t\t\t\t\t\t\tself.adj[w].remove(self.in_adj[e2])\n",
    "\n",
    "\t\t\t\t\t\t\tif e2 in self.reverse_edges:\n",
    "\t\t\t\t\t\t\t\tx = e2[0]\n",
    "\t\t\t\t\t\t\telse:\n",
    "\t\t\t\t\t\t\t\tx = e2[1]\n",
    "\n",
    "\t\t\t\t\t\t\te_virt = self.__new_virtual_edge(v, x)\n",
    "\t\t\t\t\t\t\tself.graph_copy.add_edge(e_virt)\n",
    "\t\t\t\t\t\t\tself.degree[v] -= 1\n",
    "\t\t\t\t\t\t\tself.degree[x] -= 1\n",
    "\n",
    "\t\t\t\t\t\t\tif e2 in self.reverse_edges:\n",
    "\t\t\t\t\t\t\t\te2_source = e2[1]\n",
    "\t\t\t\t\t\t\telse:\n",
    "\t\t\t\t\t\t\t\te2_source = e2[0]\n",
    "\t\t\t\t\t\t\tif e2_source != w:\n",
    "\t\t\t\t\t\t\t\traise ValueError(\"Graph is not biconnected\")\n",
    "\n",
    "\t\t\t\t\t\t\tcomp = _Component([e1, e2, e_virt], 1)\n",
    "\t\t\t\t\t\t\tself.components_list.append(comp)\n",
    "\t\t\t\t\t\t\tcomp = None\n",
    "\n",
    "\t\t\t\t\t\t\tif self.e_stack:\n",
    "\t\t\t\t\t\t\t\te1 = self.e_stack[-1]\n",
    "\t\t\t\t\t\t\t\tif e1 in self.reverse_edges:\n",
    "\t\t\t\t\t\t\t\t\tif e1[1] == x and e1[0] == v:\n",
    "\t\t\t\t\t\t\t\t\t\te_ab = self.__estack_pop()\n",
    "\t\t\t\t\t\t\t\t\t\tself.adj[x].remove(self.in_adj[e_ab])\n",
    "\t\t\t\t\t\t\t\t\t\tself.__del_high(e_ab)\n",
    "\t\t\t\t\t\t\t\telse:\n",
    "\t\t\t\t\t\t\t\t\tif e1[0] == x and e1[1] == v:\n",
    "\t\t\t\t\t\t\t\t\t\te_ab = self.__estack_pop()\n",
    "\t\t\t\t\t\t\t\t\t\tself.adj[x].remove(self.in_adj[e_ab])\n",
    "\t\t\t\t\t\t\t\t\t\tself.__del_high(e_ab)\n",
    "\n",
    "\t\t\t\t\t\telse:\n",
    "\t\t\t\t\t\t\tself.type2.append((self.node_at[a]+1, self.node_at[b]+1))\n",
    "\t\t\t\t\t\t\th = self.t_stack_h[self.t_stack_top]\n",
    "\t\t\t\t\t\t\tself.t_stack_top -= 1\n",
    "\n",
    "\t\t\t\t\t\t\tcomp = _Component([],0)\n",
    "\t\t\t\t\t\t\twhile True:\n",
    "\t\t\t\t\t\t\t\txy = self.e_stack[-1]\n",
    "\t\t\t\t\t\t\t\tif xy in self.reverse_edges:\n",
    "\t\t\t\t\t\t\t\t\tx = xy[1]\n",
    "\t\t\t\t\t\t\t\t\txy_target = xy[0]\n",
    "\t\t\t\t\t\t\t\telse:\n",
    "\t\t\t\t\t\t\t\t\tx = xy[0]\n",
    "\t\t\t\t\t\t\t\t\txy_target = xy[1]\n",
    "\t\t\t\t\t\t\t\tif not (a <= self.newnum[x] <= h and a <= self.newnum[xy_target] <= h):\n",
    "\t\t\t\t\t\t\t\t\tbreak\n",
    "\t\t\t\t\t\t\t\tif (self.newnum[x] == a and self.newnum[xy_target] == b) or \\\n",
    "\t\t\t\t\t\t\t\t\t\t(self.newnum[xy_target] == a and self.newnum[x] == b):\n",
    "\t\t\t\t\t\t\t\t\te_ab = self.__estack_pop()\n",
    "\t\t\t\t\t\t\t\t\tif e_ab in self.reverse_edges:\n",
    "\t\t\t\t\t\t\t\t\t\te_ab_source = e_ab[1]\n",
    "\t\t\t\t\t\t\t\t\telse:\n",
    "\t\t\t\t\t\t\t\t\t\te_ab_source = e_ab[0]\n",
    "\t\t\t\t\t\t\t\t\tself.adj[e_ab_source].remove(self.in_adj[e_ab])\n",
    "\t\t\t\t\t\t\t\t\tself.__del_high(e_ab)\n",
    "\n",
    "\t\t\t\t\t\t\t\telse:\n",
    "\t\t\t\t\t\t\t\t\teh = self.__estack_pop()\n",
    "\t\t\t\t\t\t\t\t\tif eh in self.reverse_edges:\n",
    "\t\t\t\t\t\t\t\t\t\teh_source = eh[1]\n",
    "\t\t\t\t\t\t\t\t\telse:\n",
    "\t\t\t\t\t\t\t\t\t\teh_source = eh[0]\n",
    "\t\t\t\t\t\t\t\t\tif it != self.in_adj[eh]:\n",
    "\t\t\t\t\t\t\t\t\t\tself.adj[eh_source].remove(self.in_adj[eh])\n",
    "\t\t\t\t\t\t\t\t\t\tself.__del_high(eh)\n",
    "\n",
    "\t\t\t\t\t\t\t\t\tcomp.add_edge(eh)\n",
    "\t\t\t\t\t\t\t\t\tself.degree[x] -= 1\n",
    "\t\t\t\t\t\t\t\t\tself.degree[xy_target] -= 1\n",
    "\n",
    "\t\t\t\t\t\t\te_virt = self.__new_virtual_edge(self.node_at[a], self.node_at[b])\n",
    "\t\t\t\t\t\t\tself.graph_copy.add_edge(e_virt)\n",
    "\t\t\t\t\t\t\tcomp.finish_tric_or_poly(e_virt)\n",
    "\t\t\t\t\t\t\tself.components_list.append(comp)\n",
    "\t\t\t\t\t\t\tcomp = None\n",
    "\t\t\t\t\t\t\tx = self.node_at[b]\n",
    "\n",
    "\t\t\t\t\t\tif e_ab is not None:\n",
    "\t\t\t\t\t\t\tcomp = _Component([e_ab, e_virt], type_c=0)\n",
    "\t\t\t\t\t\t\te_virt = self.__new_virtual_edge(v, x)\n",
    "\t\t\t\t\t\t\tself.graph_copy.add_edge(e_virt)\n",
    "\t\t\t\t\t\t\tcomp.add_edge(e_virt)\n",
    "\t\t\t\t\t\t\tself.degree[x] -= 1\n",
    "\t\t\t\t\t\t\tself.degree[v] -= 1\n",
    "\t\t\t\t\t\t\tself.components_list.append(comp)\n",
    "\t\t\t\t\t\t\tcomp = None\n",
    "\n",
    "\t\t\t\t\t\tself.e_stack.append(e_virt)\n",
    "\n",
    "\t\t\t\t\t\tit.set_data(e_virt)\n",
    "\n",
    "\t\t\t\t\t\tself.in_adj[e_virt] = it\n",
    "\t\t\t\t\t\tself.degree[x] += 1\n",
    "\t\t\t\t\t\tself.degree[v] += 1\n",
    "\t\t\t\t\t\tself.parent[x] = v\n",
    "\t\t\t\t\t\tself.tree_arc[x] = e_virt\n",
    "\t\t\t\t\t\tself.edge_status[e_virt] = 1\n",
    "\t\t\t\t\t\tw = x\n",
    "\t\t\t\t\t\twnum = self.newnum[w]\n",
    "\n",
    "\t\t\t\t\ttemp_node = self.adj[w].get_head()\n",
    "\t\t\t\t\ttemp = temp_node.get_data()\n",
    "\t\t\t\t\tif temp in self.reverse_edges:\n",
    "\t\t\t\t\t\ttemp_target = temp[0]\n",
    "\t\t\t\t\telse:\n",
    "\t\t\t\t\t\ttemp_target = temp[1]\n",
    "\n",
    "\t\t\t\tif self.lowpt2[w] >= vnum > self.lowpt1[w] and \\\n",
    "\t\t\t\t\t\t(self.parent[v] != self.start_vertex or outv >= 2):\n",
    "\n",
    "\t\t\t\t\tself.type1.append((self.node_at[self.lowpt1[w]]+1, v+1))\n",
    "\n",
    "\t\t\t\t\tcomp = _Component([], 0)\n",
    "\t\t\t\t\tif not self.e_stack:\n",
    "\t\t\t\t\t\traise ValueError(\"stack is empty\")\n",
    "\t\t\t\t\twhile self.e_stack:\n",
    "\t\t\t\t\t\txy = self.e_stack[-1]\n",
    "\t\t\t\t\t\tif xy in self.reverse_edges:\n",
    "\t\t\t\t\t\t\txx = self.newnum[xy[1]]\n",
    "\t\t\t\t\t\t\ty = self.newnum[xy[0]]\n",
    "\t\t\t\t\t\telse:\n",
    "\t\t\t\t\t\t\txx = self.newnum[xy[0]]\n",
    "\t\t\t\t\t\t\ty = self.newnum[xy[1]]\n",
    "\n",
    "\t\t\t\t\t\tif not ((wnum <= xx < wnum + self.nd[w]) or\n",
    "\t\t\t\t\t\t\t\t(wnum <= y < wnum + self.nd[w])):\n",
    "\t\t\t\t\t\t\tbreak\n",
    "\n",
    "\t\t\t\t\t\tcomp.add_edge(self.__estack_pop())\n",
    "\t\t\t\t\t\tself.__del_high(xy)\n",
    "\t\t\t\t\t\tself.degree[self.node_at[xx]] -= 1\n",
    "\t\t\t\t\t\tself.degree[self.node_at[y]] -= 1\n",
    "\n",
    "\t\t\t\t\te_virt = self.__new_virtual_edge(v, self.node_at[self.lowpt1[w]])\n",
    "\t\t\t\t\tself.graph_copy.add_edge(e_virt)\n",
    "\t\t\t\t\tcomp.finish_tric_or_poly(e_virt)\n",
    "\t\t\t\t\tself.components_list.append(comp)\n",
    "\t\t\t\t\tcomp = None\n",
    "\n",
    "\t\t\t\t\tif (xx == vnum and y == self.lowpt1[w]) or (y == vnum and xx == self.lowpt1[w]):\n",
    "\t\t\t\t\t\tcomp_bond = _Component([], type_c=0)\n",
    "\t\t\t\t\t\teh = self.__estack_pop()\n",
    "\t\t\t\t\t\tif self.in_adj[eh] != it:\n",
    "\t\t\t\t\t\t\tif eh in self.reverse_edges:\n",
    "\t\t\t\t\t\t\t\tself.adj[eh[1]].remove(self.in_adj[eh])\n",
    "\t\t\t\t\t\t\telse:\n",
    "\t\t\t\t\t\t\t\tself.adj[eh[0]].remove(self.in_adj[eh])\n",
    "\n",
    "\t\t\t\t\t\tcomp_bond.add_edge(eh)\n",
    "\t\t\t\t\t\tcomp_bond.add_edge(e_virt)\n",
    "\t\t\t\t\t\te_virt = self.__new_virtual_edge(v, self.node_at[self.lowpt1[w]])\n",
    "\t\t\t\t\t\tself.graph_copy.add_edge(e_virt)\n",
    "\t\t\t\t\t\tcomp_bond.add_edge(e_virt)\n",
    "\t\t\t\t\t\tif eh in self.in_high:\n",
    "\t\t\t\t\t\t\tself.in_high[e_virt] = self.in_high[eh]\n",
    "\t\t\t\t\t\tself.degree[v] -= 1\n",
    "\t\t\t\t\t\tself.degree[self.node_at[self.lowpt1[w]]] -= 1\n",
    "\t\t\t\t\t\tself.components_list.append(comp_bond)\n",
    "\t\t\t\t\t\tcomp_bond = None\n",
    "\n",
    "\t\t\t\t\tif self.node_at[self.lowpt1[w]] != self.parent[v]:\n",
    "\t\t\t\t\t\tself.e_stack.append(e_virt)\n",
    "\n",
    "\t\t\t\t\t\tit.set_data(e_virt)\n",
    "\n",
    "\t\t\t\t\t\tself.in_adj[e_virt] = it\n",
    "\t\t\t\t\t\tif not e_virt in self.in_high and self.__high(self.node_at[self.lowpt1[w]]) < vnum:\n",
    "\t\t\t\t\t\t\tvnum_node = _LinkedListNode(vnum)\n",
    "\t\t\t\t\t\t\tself.highpt[self.node_at[self.lowpt1[w]]].push_front(vnum_node)\n",
    "\t\t\t\t\t\t\tself.in_high[e_virt] = vnum_node\n",
    "\n",
    "\t\t\t\t\t\tself.degree[v] += 1\n",
    "\t\t\t\t\t\tself.degree[self.node_at[self.lowpt1[w]]] += 1\n",
    "\n",
    "\t\t\t\t\telse:\n",
    "\t\t\t\t\t\tself.adj[v].remove(it)\n",
    "\t\t\t\t\t\tcomp_bond = _Component([e_virt], type_c=0)\n",
    "\t\t\t\t\t\te_virt = self.__new_virtual_edge(self.node_at[self.lowpt1[w]], v)\n",
    "\t\t\t\t\t\tself.graph_copy.add_edge(e_virt)\n",
    "\t\t\t\t\t\tcomp_bond.add_edge(e_virt)\n",
    "\n",
    "\t\t\t\t\t\teh = self.tree_arc[v];\n",
    "\t\t\t\t\t\tcomp_bond.add_edge(eh)\n",
    "\t\t\t\t\t\tself.components_list.append(comp_bond)\n",
    "\t\t\t\t\t\tcomp_bond = None\n",
    "\n",
    "\t\t\t\t\t\tself.tree_arc[v] = e_virt\n",
    "\t\t\t\t\t\tself.edge_status[e_virt] = 1\n",
    "\t\t\t\t\t\tif eh in self.in_adj:\n",
    "\t\t\t\t\t\t\tself.in_adj[e_virt] = self.in_adj[eh]\n",
    "\t\t\t\t\t\te_virt_node = _LinkedListNode(e_virt)\n",
    "\t\t\t\t\t\tself.in_adj[eh] = e_virt_node\n",
    "\n",
    "\t\t\t\tif self.starts_path[e]:\n",
    "\t\t\t\t\twhile self.__tstack_not_eos():\n",
    "\t\t\t\t\t\tself.t_stack_top -= 1\n",
    "\t\t\t\t\tself.t_stack_top -= 1\n",
    "\n",
    "\t\t\t\twhile self.__tstack_not_eos() and \\\n",
    "\t\t\t\t\t\tself.t_stack_b[self.t_stack_top] != vnum and \\\n",
    "\t\t\t\t\t\tself.__high(v) > self.t_stack_h[self.t_stack_top]:\n",
    "\t\t\t\t\tself.t_stack_top -= 1\n",
    "\n",
    "\t\t\t\toutv -= 1\n",
    "\t\t\telse:\n",
    "\t\t\t\tif self.starts_path[e]:\n",
    "\t\t\t\t\ty = 0\n",
    "\n",
    "\t\t\t\t\tif self.t_stack_a[self.t_stack_top] > wnum:\n",
    "\t\t\t\t\t\twhile self.t_stack_a[self.t_stack_top] > wnum:\n",
    "\t\t\t\t\t\t\ty = max(y, self.t_stack_h[self.t_stack_top])\n",
    "\t\t\t\t\t\t\tb = self.t_stack_b[self.t_stack_top]\n",
    "\t\t\t\t\t\t\tself.t_stack_top -= 1\n",
    "\t\t\t\t\t\tself.__tstack_push(y, wnum, b)\n",
    "\n",
    "\t\t\t\t\telse:\n",
    "\t\t\t\t\t\tself.__tstack_push(vnum, wnum, vnum)\n",
    "\t\t\t\tself.e_stack.append(e)\n",
    "\n",
    "\t\t\te_node = e_node.next\n",
    "\n",
    "\tdef __print_split(self):\n",
    "\t\tself.comp_list_new1 = []\n",
    "\t\tself.comp_type1 = []\n",
    "\t\tfor comp in self.components_list:\n",
    "\t\t\tif comp.edge_list.get_length() > 0:\n",
    "\t\t\t\te_list = comp.get_edge_list()\n",
    "\t\t\t\te_list_new = []\n",
    "\t\t\t\tfor u,v,l in e_list:\n",
    "\t\t\t\t\tsource = self.int_to_vertex[u]\n",
    "\t\t\t\t\ttarget = self.int_to_vertex[v]\n",
    "\t\t\t\t\tif isinstance(l, str):\n",
    "\t\t\t\t\t\tlabel = l\n",
    "\t\t\t\t\telse:\n",
    "\t\t\t\t\t\tlabel = self.int_to_original_edge_label[l]\n",
    "\t\t\t\t\te_list_new.append((source, target, label))\n",
    "\t\t\t\tself.comp_list_new1.append(e_list_new)\n",
    "\t\treturn self.comp_list_new1\n",
    "\n",
    "\tdef __assemble_triconnected_components(self):\n",
    "\n",
    "\t\tcomp1 = {}\n",
    "\t\tcomp2 = {}\n",
    "\t\titem1 = {}\n",
    "\t\titem2 = {}\n",
    "\t\tnum_components = len(self.components_list)\n",
    "\t\tvisited = [False for i in range(num_components)]\n",
    "\n",
    "\t\tfor i in range(num_components):\n",
    "\t\t\te_node = self.components_list[i].edge_list.get_head()\n",
    "\t\t\twhile e_node:\n",
    "\t\t\t\te = e_node.get_data()\n",
    "\t\t\t\tif e not in item1:\n",
    "\t\t\t\t\tcomp1[e] = i\n",
    "\t\t\t\t\titem1[e] = e_node\n",
    "\t\t\t\telse:\n",
    "\t\t\t\t\tcomp2[e] = i\n",
    "\t\t\t\t\titem2[e] = e_node\n",
    "\n",
    "\t\t\t\te_node = e_node.next\n",
    "\n",
    "\t\tfor i in range(num_components):\n",
    "\t\t\tc1 = self.components_list[i]\n",
    "\t\t\tc1_type = c1.component_type\n",
    "\t\t\tl1 = c1.edge_list\n",
    "\t\t\tvisited[i] = True\n",
    "\n",
    "\t\t\tif l1.get_length() == 0:\n",
    "\t\t\t\tcontinue\n",
    "\n",
    "\t\t\tif c1_type == 0 or c1_type == 1:\n",
    "\t\t\t\te_node = self.components_list[i].edge_list.get_head()\n",
    "\n",
    "\t\t\t\twhile e_node:\n",
    "\t\t\t\t\te = e_node.get_data()\n",
    "\t\t\t\t\te_node_next = e_node.next\n",
    "\t\t\t\t\tif not isinstance(e[2], str):\n",
    "\t\t\t\t\t\te_node = e_node_next\n",
    "\t\t\t\t\t\tcontinue\n",
    "\n",
    "\t\t\t\t\tj = comp1[e]\n",
    "\t\t\t\t\tif visited[j]:\n",
    "\t\t\t\t\t\tj = comp2[e]\n",
    "\t\t\t\t\t\tif visited[j]:\n",
    "\t\t\t\t\t\t\te_node = e_node_next\n",
    "\t\t\t\t\t\t\tcontinue\n",
    "\t\t\t\t\t\te_node2 = item2[e]\n",
    "\t\t\t\t\telse:\n",
    "\t\t\t\t\t\te_node2 = item1[e]\n",
    "\n",
    "\t\t\t\t\tc2 = self.components_list[j]\n",
    "\n",
    "\t\t\t\t\tif c1_type != c2.component_type:\n",
    "\t\t\t\t\t\te_node = e_node_next\n",
    "\t\t\t\t\t\tcontinue\n",
    "\n",
    "\t\t\t\t\tvisited[j] = True\n",
    "\t\t\t\t\tl2 = c2.edge_list\n",
    "\n",
    "\t\t\t\t\tl2.remove(e_node2)\n",
    "\t\t\t\t\tl1.concatenate(l2)\n",
    "\n",
    "\t\t\t\t\tif not e_node_next:\n",
    "\t\t\t\t\t\te_node_next = e_node.next\n",
    "\n",
    "\t\t\t\t\tl1.remove(e_node)\n",
    "\n",
    "\t\t\t\t\te_node = e_node_next\n",
    "\n",
    "\t\tself.comp_list_new = []\n",
    "\t\tself.comp_type = []\n",
    "\t\tfor comp in self.components_list:\n",
    "\t\t\tif comp.edge_list.get_length() > 0:\n",
    "\t\t\t\te_list = comp.get_edge_list()\n",
    "\t\t\t\te_list_new = []\n",
    "\t\t\t\tfor u,v,l in e_list:\n",
    "\t\t\t\t\tsource = self.int_to_vertex[u]\n",
    "\t\t\t\t\ttarget = self.int_to_vertex[v]\n",
    "\t\t\t\t\tif isinstance(l, str):\n",
    "\t\t\t\t\t\tlabel = l\n",
    "\t\t\t\t\telse:\n",
    "\t\t\t\t\t\tlabel = self.int_to_original_edge_label[l]\n",
    "\t\t\t\t\te_list_new.append((source, target, label))\n",
    "\t\t\t\tself.comp_type.append(comp.component_type)\n",
    "\t\t\t\tself.comp_list_new.append(e_list_new)\n",
    "\t#print(self.comp_list_new)\n",
    "\n",
    "\tdef __build_spqr_tree(self):\n",
    "\n",
    "\t\t# Types of components 0: \"P\", 1: \"S\", 2: \"R\"\n",
    "\t\tcomponent_type = [\"P\", \"S\", \"R\"]\n",
    "\n",
    "\t\tself.spqr_tree = Graph(multiedges=False, name='SPQR-tree of {}'.format(self.graph_name))\n",
    "\n",
    "\t\tif len(self.comp_list_new) == 1 and self.comp_type[0] == 0:\n",
    "\t\t\tself.spqr_tree.add_vertex(('Q' if len(self.comp_list_new[0]) == 1 else 'P',\n",
    "\t\t\t\t\t\t\t\t\t   Graph(self.comp_list_new[0], immutable=True, multiedges=True)))\n",
    "\t\t\treturn\n",
    "\n",
    "\t\tint_to_vertex = []\n",
    "\t\tpartner_nodes = {}\n",
    "\n",
    "\t\tfor i in range(len(self.comp_list_new)):\n",
    "\t\t\tu = (component_type[self.comp_type[i]],\n",
    "\t\t\t\t Graph(self.comp_list_new[i], immutable=True, multiedges=True))\n",
    "\t\t\tself.spqr_tree.add_vertex(u)\n",
    "\t\t\tint_to_vertex.append(u)\n",
    "\n",
    "\t\t\tfor e in self.comp_list_new[i]:\n",
    "\t\t\t\tif e in self.virtual_edges:\n",
    "\t\t\t\t\tif e in partner_nodes:\n",
    "\t\t\t\t\t\tfor j in partner_nodes[e]:\n",
    "\t\t\t\t\t\t\tself.spqr_tree.add_edge(int_to_vertex[i], int_to_vertex[j])\n",
    "\t\t\t\t\t\tpartner_nodes[e].append(i)\n",
    "\t\t\t\t\telse:\n",
    "\t\t\t\t\t\tpartner_nodes[e] = [i]"
   ],
   "metadata": {
    "collapsed": false,
    "pycharm": {
     "name": "#%%\n"
    }
   }
  },
  {
   "cell_type": "markdown",
   "metadata": {
    "pycharm": {
     "name": "#%% md\n"
    }
   },
   "source": []
  },
  {
   "cell_type": "code",
   "execution_count": 7,
   "metadata": {
    "collapsed": false,
    "jupyter": {
     "outputs_hidden": false
    },
    "pycharm": {
     "name": "#%%\n"
    }
   },
   "outputs": [
    {
     "data": {
      "image/png": "[encoded data removed]",
      "text/plain": "Graphics object consisting of 38 graphics primitives"
     },
     "metadata": {},
     "output_type": "display_data"
    }
   ],
   "source": [
    "G = Graph([(1, 2), (1, 4), (1, 8), (1, 12), (1, 13), (2, 3), (2, 13), (3, 4), (3, 13), (4, 5), (4, 6),(4, 7), (5, 6), (5, 7), (5, 8),(6, 7), (8, 9), (8, 11), (8, 12), (9, 10), (9, 11), (9, 12),(10, 11), (10, 12)])\n",
    "G.show()"
   ]
  },
  {
   "cell_type": "code",
   "execution_count": 8,
   "outputs": [
    {
     "ename": "NameError",
     "evalue": "name 'p' is not defined",
     "output_type": "error",
     "traceback": [
      "\u001B[0;31m---------------------------------------------------------------------------\u001B[0m",
      "\u001B[0;31mNameError\u001B[0m                                 Traceback (most recent call last)",
      "\u001B[0;32m/tmp/ipykernel_25179/4280772825.py\u001B[0m in \u001B[0;36m<module>\u001B[0;34m\u001B[0m\n\u001B[0;32m----> 1\u001B[0;31m \u001B[0mp\u001B[0m\u001B[0;34m.\u001B[0m\u001B[0msave\u001B[0m\u001B[0;34m(\u001B[0m\u001B[0;34m'HopcroftExample.png'\u001B[0m\u001B[0;34m)\u001B[0m\u001B[0;34m\u001B[0m\u001B[0;34m\u001B[0m\u001B[0m\n\u001B[0m",
      "\u001B[0;31mNameError\u001B[0m: name 'p' is not defined"
     ]
    }
   ],
   "source": [
    "p.save('HopcroftExample.png')"
   ],
   "metadata": {
    "collapsed": false,
    "pycharm": {
     "name": "#%%\n"
    }
   }
  },
  {
   "cell_type": "code",
   "execution_count": null,
   "metadata": {
    "collapsed": false,
    "jupyter": {
     "outputs_hidden": false
    },
    "pycharm": {
     "name": "#%%\n"
    }
   },
   "outputs": [],
   "source": []
  },
  {
   "cell_type": "code",
   "execution_count": null,
   "metadata": {
    "collapsed": false,
    "jupyter": {
     "outputs_hidden": false
    },
    "pycharm": {
     "name": "#%%\n"
    }
   },
   "outputs": [],
   "source": [
    "tric1 = TriconnectivitySPQR_Aux(G)"
   ]
  },
  {
   "cell_type": "code",
   "execution_count": null,
   "metadata": {
    "collapsed": false,
    "jupyter": {
     "outputs_hidden": false
    },
    "pycharm": {
     "name": "#%%\n"
    }
   },
   "outputs": [],
   "source": [
    "print(tric1.comp_list_new1)"
   ]
  },
  {
   "cell_type": "code",
   "execution_count": null,
   "metadata": {
    "collapsed": false,
    "jupyter": {
     "outputs_hidden": false
    },
    "pycharm": {
     "name": "#%%\n"
    }
   },
   "outputs": [],
   "source": [
    "tric1.type1"
   ]
  },
  {
   "cell_type": "code",
   "execution_count": null,
   "metadata": {
    "collapsed": false,
    "jupyter": {
     "outputs_hidden": false
    },
    "pycharm": {
     "name": "#%%\n"
    }
   },
   "outputs": [],
   "source": [
    "tric1.type2"
   ]
  },
  {
   "cell_type": "code",
   "execution_count": null,
   "metadata": {
    "collapsed": false,
    "jupyter": {
     "outputs_hidden": false
    },
    "pycharm": {
     "name": "#%%\n"
    }
   },
   "outputs": [],
   "source": [
    "for componente in tric1.comp_list_new1:\n",
    "\tgrafo = Graph(componente)\n",
    "\tgrafo.graphplot(edge_labels=True).show()\n",
    "\topts = grafo.latex_options()\n",
    "\tgrafo.set_latex_options(tkz_style='Normal')\n",
    "\tcheck_tkz_graph()\n",
    "\tprint(opts.tkz_picture())\n",
    "\t#print(latex(grafo))"
   ]
  },
  {
   "cell_type": "code",
   "execution_count": null,
   "metadata": {
    "collapsed": false,
    "jupyter": {
     "outputs_hidden": false
    },
    "pycharm": {
     "name": "#%%\n"
    }
   },
   "outputs": [],
   "source": []
  },
  {
   "cell_type": "code",
   "execution_count": null,
   "outputs": [],
   "source": [
    "G2 = {\n",
    "\t1:[2, 4],\n",
    "\t2:[1, 3, 5, 6],\n",
    "\t3:[2, 4, 5, 6, 7],\n",
    "\t4:[1, 3, 7],\n",
    "\t5:[2, 3, 6],\n",
    "\t6:[2, 3, 5],\n",
    "\t7:[3, 4],\n",
    "}"
   ],
   "metadata": {
    "collapsed": false,
    "pycharm": {
     "name": "#%%\n"
    }
   }
  },
  {
   "cell_type": "code",
   "execution_count": null,
   "outputs": [],
   "source": [
    "G = Graph([(1, 2), (1, 4), (1, 8), (1, 12), (1, 13), (2, 3), (2, 13), (3, 4), (3, 13), (4, 5), (4, 6),(4, 7), (5, 6), (5, 7), (5, 8),(6, 7), (8, 9), (8, 11), (8, 12), (9, 10), (9, 11), (9, 12),(10, 11), (10, 12)])\n",
    "G.show()"
   ],
   "metadata": {
    "collapsed": false,
    "pycharm": {
     "name": "#%%\n"
    }
   }
  },
  {
   "cell_type": "code",
   "execution_count": null,
   "metadata": {
    "collapsed": false,
    "jupyter": {
     "outputs_hidden": false
    },
    "pycharm": {
     "name": "#%%\n"
    }
   },
   "outputs": [],
   "source": [
    "tric = TriconnectivitySPQR(G)\n",
    "T = tric.get_spqr_tree()\n",
    "G.is_isomorphic(spqr_tree_to_graph(T))"
   ]
  },
  {
   "cell_type": "code",
   "execution_count": null,
   "metadata": {
    "collapsed": false,
    "jupyter": {
     "outputs_hidden": false
    },
    "pycharm": {
     "name": "#%%\n"
    }
   },
   "outputs": [],
   "source": [
    "tric.print_triconnected_components()"
   ]
  },
  {
   "cell_type": "code",
   "execution_count": null,
   "metadata": {
    "collapsed": false,
    "jupyter": {
     "outputs_hidden": false
    },
    "pycharm": {
     "name": "#%%\n"
    }
   },
   "outputs": [],
   "source": [
    "tric.get_triconnected_components()"
   ]
  },
  {
   "cell_type": "code",
   "execution_count": null,
   "metadata": {
    "collapsed": false,
    "jupyter": {
     "outputs_hidden": false
    },
    "pycharm": {
     "name": "#%%\n"
    }
   },
   "outputs": [],
   "source": [
    "componentes = tric.get_triconnected_components()"
   ]
  },
  {
   "cell_type": "code",
   "execution_count": null,
   "metadata": {
    "collapsed": false,
    "jupyter": {
     "outputs_hidden": false
    },
    "pycharm": {
     "name": "#%%\n"
    }
   },
   "outputs": [],
   "source": [
    "opts = G.latex_options()\n",
    "G.set_latex_options(tkz_style='Art')"
   ]
  },
  {
   "cell_type": "code",
   "execution_count": null,
   "metadata": {
    "collapsed": false,
    "jupyter": {
     "outputs_hidden": false
    },
    "pycharm": {
     "name": "#%%\n"
    }
   },
   "outputs": [],
   "source": [
    "for componente in componentes:\n",
    "\tgrafo = Graph(componente[1])\n",
    "\tgrafo.graphplot(edge_labels=True).show()\n",
    "\topts = grafo.latex_options()\n",
    "\tgrafo.set_latex_options(tkz_style='Normal')\n",
    "\tcheck_tkz_graph()\n",
    "\tprint(opts.tkz_picture())\n",
    "\t#print(latex(grafo))"
   ]
  },
  {
   "cell_type": "code",
   "execution_count": null,
   "metadata": {
    "collapsed": false,
    "jupyter": {
     "outputs_hidden": false
    },
    "pycharm": {
     "name": "#%%\n"
    }
   },
   "outputs": [],
   "source": []
  },
  {
   "cell_type": "code",
   "execution_count": null,
   "outputs": [],
   "source": [
    "G2 = {\n",
    "\t1: [2, 4],\n",
    "\t2: [1, 3, 5, 6],\n",
    "\t3: [2, 4, 5, 6, 7],\n",
    "\t4: [1, 3, 7],\n",
    "\t5: [2, 3, 6],\n",
    "\t6: [2, 3, 5],\n",
    "\t7: [3, 4],\n",
    "}\n",
    "G = Graph(\n",
    "\t[(1, 2), (1, 4), (1, 8), (1, 12), (1, 13), (2, 3), (2, 13), (3, 4), (3, 13), (4, 5), (4, 6), (4, 7), (5, 6), (5, 7),\n",
    "\t (5, 8), (6, 7), (8, 9), (8, 11), (8, 12), (9, 10), (9, 11), (9, 12), (10, 11), (10, 12)])\n",
    "G.show()"
   ],
   "metadata": {
    "collapsed": false,
    "pycharm": {
     "name": "#%%\n"
    }
   }
  },
  {
   "cell_type": "code",
   "execution_count": null,
   "metadata": {
    "collapsed": false,
    "jupyter": {
     "outputs_hidden": false
    },
    "pycharm": {
     "name": "#%%\n"
    }
   },
   "outputs": [],
   "source": [
    "G12 = Graph(G2)"
   ]
  },
  {
   "cell_type": "code",
   "execution_count": null,
   "metadata": {
    "collapsed": false,
    "jupyter": {
     "outputs_hidden": false
    },
    "pycharm": {
     "name": "#%%\n"
    }
   },
   "outputs": [],
   "source": [
    "for u, v, l in G12.edges():\n",
    "\tG12.set_edge_label(u, v, f'({u},{v})')"
   ]
  },
  {
   "cell_type": "code",
   "execution_count": null,
   "metadata": {
    "collapsed": false,
    "jupyter": {
     "outputs_hidden": false
    },
    "pycharm": {
     "name": "#%%\n"
    }
   },
   "outputs": [],
   "source": [
    "tric12 = TriconnectivitySPQR_Aux(G12)\n",
    "print(tric12.comp_list_new1)"
   ]
  },
  {
   "cell_type": "code",
   "execution_count": null,
   "metadata": {
    "collapsed": false,
    "jupyter": {
     "outputs_hidden": false
    },
    "pycharm": {
     "name": "#%%\n"
    }
   },
   "outputs": [],
   "source": [
    "tric12.type2"
   ]
  },
  {
   "cell_type": "code",
   "execution_count": null,
   "metadata": {
    "collapsed": false,
    "jupyter": {
     "outputs_hidden": false
    },
    "pycharm": {
     "name": "#%%\n"
    }
   },
   "outputs": [],
   "source": [
    "tric12.type1"
   ]
  },
  {
   "cell_type": "code",
   "execution_count": null,
   "metadata": {
    "collapsed": false,
    "jupyter": {
     "outputs_hidden": false
    },
    "pycharm": {
     "name": "#%%\n"
    }
   },
   "outputs": [],
   "source": [
    "for componente in tric12.comp_list_new1:\n",
    "\tgrafo = Graph(componente)\n",
    "\tgrafo.graphplot(edge_labels=True).show()\n",
    "\topts = grafo.latex_options()\n",
    "\tgrafo.set_latex_options(tkz_style='Normal')\n",
    "\tcheck_tkz_graph()\n",
    "\tprint(opts.tkz_picture())\n",
    "\t#check_tkz_graph()\n",
    "\t#print(latex(grafo))"
   ]
  },
  {
   "cell_type": "code",
   "execution_count": null,
   "metadata": {
    "collapsed": false,
    "jupyter": {
     "outputs_hidden": false
    },
    "pycharm": {
     "name": "#%%\n"
    }
   },
   "outputs": [],
   "source": []
  },
  {
   "cell_type": "code",
   "execution_count": null,
   "outputs": [],
   "source": [
    "G3 = {\n",
    "\t1: [2, 3, 4],\n",
    "\t2: [1, 3, 4],\n",
    "\t3: [1, 2, 5, 6],\n",
    "\t4: [1, 2, 5, 6],\n",
    "\t5: [3, 4, 6],\n",
    "\t6: [3, 4, 5]\n",
    "}\n",
    "G = Graph(\n",
    "\t[(1, 2), (1, 4), (1, 8), (1, 12), (1, 13), (2, 3), (2, 13), (3, 4), (3, 13), (4, 5), (4, 6), (4, 7), (5, 6), (5, 7),\n",
    "\t (5, 8), (6, 7), (8, 9), (8, 11), (8, 12), (9, 10), (9, 11), (9, 12), (10, 11), (10, 12)])\n",
    "G.show()"
   ],
   "metadata": {
    "collapsed": false,
    "pycharm": {
     "name": "#%%\n"
    }
   }
  },
  {
   "cell_type": "code",
   "execution_count": null,
   "outputs": [],
   "source": [],
   "metadata": {
    "collapsed": false,
    "pycharm": {
     "name": "#%%\n"
    }
   }
  },
  {
   "cell_type": "code",
   "execution_count": null,
   "metadata": {
    "collapsed": false,
    "jupyter": {
     "outputs_hidden": false
    },
    "pycharm": {
     "name": "#%%\n"
    }
   },
   "outputs": [],
   "source": [
    "tric = TriconnectivitySPQR(G12)\n",
    "T = tric.get_spqr_tree()\n",
    "G12.is_isomorphic(spqr_tree_to_graph(T))"
   ]
  },
  {
   "cell_type": "code",
   "execution_count": null,
   "metadata": {
    "collapsed": false,
    "jupyter": {
     "outputs_hidden": false
    },
    "pycharm": {
     "name": "#%%\n"
    }
   },
   "outputs": [],
   "source": [
    "tric.print_triconnected_components()"
   ]
  },
  {
   "cell_type": "code",
   "execution_count": null,
   "metadata": {
    "collapsed": false,
    "jupyter": {
     "outputs_hidden": false
    },
    "pycharm": {
     "name": "#%%\n"
    }
   },
   "outputs": [],
   "source": [
    "tric.get_triconnected_components()"
   ]
  },
  {
   "cell_type": "code",
   "execution_count": null,
   "metadata": {
    "collapsed": false,
    "jupyter": {
     "outputs_hidden": false
    },
    "pycharm": {
     "name": "#%%\n"
    }
   },
   "outputs": [],
   "source": [
    "componentes = tric.get_triconnected_components()"
   ]
  },
  {
   "cell_type": "code",
   "execution_count": null,
   "metadata": {
    "collapsed": false,
    "jupyter": {
     "outputs_hidden": false
    },
    "pycharm": {
     "name": "#%%\n"
    }
   },
   "outputs": [],
   "source": [
    "for componente in componentes:\n",
    "\tgrafo = Graph(componente[1])\n",
    "\tgrafo.graphplot(edge_labels=True).show()\n",
    "\topts = grafo.latex_options()\n",
    "\tgrafo.set_latex_options(tkz_style='Normal')\n",
    "\tcheck_tkz_graph()\n",
    "\tprint(opts.tkz_picture())\n",
    "\t#check_tkz_graph()\n",
    "\t#print(latex(grafo))"
   ]
  },
  {
   "cell_type": "code",
   "execution_count": null,
   "metadata": {
    "collapsed": false,
    "jupyter": {
     "outputs_hidden": false
    },
    "pycharm": {
     "name": "#%%\n"
    }
   },
   "outputs": [],
   "source": []
  },
  {
   "cell_type": "code",
   "execution_count": null,
   "outputs": [],
   "source": [
    "G4 = {\n",
    "\t1: [3, 4, 5],\n",
    "\t2: [3, 4, 5],\n",
    "\t3: [1, 2],\n",
    "\t4: [1, 2, 5],\n",
    "\t5: [2, 1, 4]\n",
    "}"
   ],
   "metadata": {
    "collapsed": false,
    "pycharm": {
     "name": "#%%\n"
    }
   }
  },
  {
   "cell_type": "code",
   "execution_count": null,
   "outputs": [],
   "source": [
    "G = Graph(\n",
    "\t[(1, 2), (1, 4), (1, 8), (1, 12), (1, 13), (2, 3), (2, 13), (3, 4), (3, 13), (4, 5), (4, 6), (4, 7), (5, 6), (5, 7),\n",
    "\t (5, 8), (6, 7), (8, 9), (8, 11), (8, 12), (9, 10), (9, 11), (9, 12), (10, 11), (10, 12)])\n",
    "G.show()"
   ],
   "metadata": {
    "collapsed": false,
    "pycharm": {
     "name": "#%%\n"
    }
   }
  },
  {
   "cell_type": "code",
   "execution_count": null,
   "metadata": {
    "collapsed": false,
    "jupyter": {
     "outputs_hidden": false
    },
    "pycharm": {
     "name": "#%%\n"
    }
   },
   "outputs": [],
   "source": [
    "G22 = Graph(G3)"
   ]
  },
  {
   "cell_type": "code",
   "execution_count": null,
   "metadata": {
    "collapsed": false,
    "jupyter": {
     "outputs_hidden": false
    },
    "pycharm": {
     "name": "#%%\n"
    }
   },
   "outputs": [],
   "source": [
    "for u, v, l in G22.edges():\n",
    "\tG22.set_edge_label(u, v, f'({u},{v})')"
   ]
  },
  {
   "cell_type": "code",
   "execution_count": null,
   "metadata": {
    "collapsed": false,
    "jupyter": {
     "outputs_hidden": false
    },
    "pycharm": {
     "name": "#%%\n"
    }
   },
   "outputs": [],
   "source": [
    "tric22 = TriconnectivitySPQR_Aux(G22)\n",
    "print(len(tric22.comp_list_new1))\n",
    "print(tric22.comp_list_new1)"
   ]
  },
  {
   "cell_type": "code",
   "execution_count": null,
   "metadata": {
    "collapsed": false,
    "jupyter": {
     "outputs_hidden": false
    },
    "pycharm": {
     "name": "#%%\n"
    }
   },
   "outputs": [],
   "source": [
    "tric22.type1"
   ]
  },
  {
   "cell_type": "code",
   "execution_count": null,
   "metadata": {
    "collapsed": false,
    "jupyter": {
     "outputs_hidden": false
    },
    "pycharm": {
     "name": "#%%\n"
    }
   },
   "outputs": [],
   "source": [
    "tric22.type2"
   ]
  },
  {
   "cell_type": "code",
   "execution_count": null,
   "metadata": {
    "collapsed": false,
    "jupyter": {
     "outputs_hidden": false
    },
    "pycharm": {
     "name": "#%%\n"
    }
   },
   "outputs": [],
   "source": [
    "for componente in tric22.comp_list_new1:\n",
    "\tgrafo = Graph(componente)\n",
    "\tgrafo.graphplot(edge_labels=True).show()\n",
    "\topts = grafo.latex_options()\n",
    "\tgrafo.set_latex_options(tkz_style='Normal')\n",
    "\tcheck_tkz_graph()\n",
    "\tprint(opts.tkz_picture())\n",
    "#check_tkz_graph()\n",
    "#print(latex(grafo))"
   ]
  },
  {
   "cell_type": "code",
   "execution_count": null,
   "metadata": {
    "collapsed": false,
    "jupyter": {
     "outputs_hidden": false
    },
    "pycharm": {
     "name": "#%%\n"
    }
   },
   "outputs": [],
   "source": []
  },
  {
   "cell_type": "code",
   "execution_count": null,
   "metadata": {
    "collapsed": false,
    "jupyter": {
     "outputs_hidden": false
    },
    "pycharm": {
     "name": "#%%\n"
    }
   },
   "outputs": [],
   "source": [
    "tric = TriconnectivitySPQR(G22)\n",
    "T = tric.get_spqr_tree()\n",
    "G22.is_isomorphic(spqr_tree_to_graph(T))"
   ]
  },
  {
   "cell_type": "code",
   "execution_count": null,
   "metadata": {
    "collapsed": false,
    "jupyter": {
     "outputs_hidden": false
    },
    "pycharm": {
     "name": "#%%\n"
    }
   },
   "outputs": [],
   "source": [
    "tric.print_triconnected_components()"
   ]
  },
  {
   "cell_type": "code",
   "execution_count": null,
   "metadata": {
    "collapsed": false,
    "jupyter": {
     "outputs_hidden": false
    },
    "pycharm": {
     "name": "#%%\n"
    }
   },
   "outputs": [],
   "source": [
    "tric.get_triconnected_components()"
   ]
  },
  {
   "cell_type": "code",
   "execution_count": null,
   "metadata": {
    "collapsed": false,
    "jupyter": {
     "outputs_hidden": false
    },
    "pycharm": {
     "name": "#%%\n"
    }
   },
   "outputs": [],
   "source": [
    "componentes = tric.get_triconnected_components()"
   ]
  },
  {
   "cell_type": "code",
   "execution_count": null,
   "metadata": {
    "collapsed": false,
    "jupyter": {
     "outputs_hidden": false
    },
    "pycharm": {
     "name": "#%%\n"
    }
   },
   "outputs": [],
   "source": [
    "for componente in componentes:\n",
    "\tgrafo = Graph(componente[1])\n",
    "\tgrafo.graphplot(edge_labels=True).show()\n",
    "\topts = grafo.latex_options()\n",
    "\tgrafo.set_latex_options(tkz_style='Normal')\n",
    "\tcheck_tkz_graph()\n",
    "\tprint(opts.tkz_picture())\n",
    "\t#check_tkz_graph()\n",
    "\t#print(latex(grafo))"
   ]
  },
  {
   "cell_type": "code",
   "execution_count": null,
   "metadata": {
    "collapsed": false,
    "jupyter": {
     "outputs_hidden": false
    },
    "pycharm": {
     "name": "#%%\n"
    }
   },
   "outputs": [],
   "source": []
  },
  {
   "cell_type": "code",
   "execution_count": null,
   "metadata": {
    "collapsed": false,
    "jupyter": {
     "outputs_hidden": false
    },
    "pycharm": {
     "name": "#%%\n"
    }
   },
   "outputs": [],
   "source": [
    "G4 = {\n",
    "\t1: [3, 4, 5],\n",
    "\t2: [3, 4, 5],\n",
    "\t3: [1, 2],\n",
    "\t4: [1, 2, 5],\n",
    "\t5: [2, 1, 4]\n",
    "}\n",
    "print(G4)"
   ]
  },
  {
   "cell_type": "code",
   "execution_count": null,
   "metadata": {
    "collapsed": false,
    "jupyter": {
     "outputs_hidden": false
    },
    "pycharm": {
     "name": "#%%\n"
    }
   },
   "outputs": [],
   "source": [
    "d = nx.Graph(G4)\n",
    "nx.draw(d, with_labels=True)\n",
    "plt.savefig('plotgraph3.png', dpi=300, bbox_inches='tight')\n",
    "plt.show()"
   ]
  },
  {
   "cell_type": "code",
   "execution_count": null,
   "metadata": {
    "collapsed": false,
    "jupyter": {
     "outputs_hidden": false
    },
    "pycharm": {
     "name": "#%%\n"
    }
   },
   "outputs": [],
   "source": [
    "grafo = recorridoDepth(G4, 1)\n",
    "Spanning_Tree, Bactracking_Tree = grafo.dFS()\n",
    "print(\"Spanning Tree edges\", Spanning_Tree)\n",
    "#print(\"Bactracking Tree edges\", Bactracking_Tree)"
   ]
  },
  {
   "cell_type": "code",
   "execution_count": null,
   "metadata": {
    "collapsed": false,
    "jupyter": {
     "outputs_hidden": false
    },
    "pycharm": {
     "name": "#%%\n"
    }
   },
   "outputs": [],
   "source": [
    "df = grafo.low1_low2()\n",
    "df"
   ]
  },
  {
   "cell_type": "code",
   "execution_count": null,
   "metadata": {
    "collapsed": false,
    "jupyter": {
     "outputs_hidden": false
    },
    "pycharm": {
     "name": "#%%\n"
    }
   },
   "outputs": [],
   "source": [
    "#print(df.to_latex(index=False))"
   ]
  },
  {
   "cell_type": "code",
   "execution_count": null,
   "metadata": {
    "collapsed": false,
    "jupyter": {
     "outputs_hidden": false
    },
    "pycharm": {
     "name": "#%%\n"
    }
   },
   "outputs": [],
   "source": [
    "aux = auxTricconected(G4, 1)\n",
    "aux.etiquetado()"
   ]
  },
  {
   "cell_type": "code",
   "execution_count": null,
   "metadata": {
    "collapsed": false,
    "jupyter": {
     "outputs_hidden": false
    },
    "pycharm": {
     "name": "#%%\n"
    }
   },
   "outputs": [],
   "source": [
    "aristas_ordenadas = aux.ordenado()\n",
    "print(aristas_ordenadas)"
   ]
  },
  {
   "cell_type": "code",
   "execution_count": null,
   "metadata": {
    "collapsed": false,
    "jupyter": {
     "outputs_hidden": false
    },
    "pycharm": {
     "name": "#%%\n"
    }
   },
   "outputs": [],
   "source": [
    "aux.pathfinder(1)"
   ]
  },
  {
   "cell_type": "code",
   "execution_count": null,
   "metadata": {
    "collapsed": false,
    "jupyter": {
     "outputs_hidden": false
    },
    "pycharm": {
     "name": "#%%\n"
    }
   },
   "outputs": [],
   "source": [
    "grafo.dibujar_grafo_recorrido('G5.png')"
   ]
  },
  {
   "cell_type": "code",
   "execution_count": null,
   "metadata": {
    "collapsed": false,
    "jupyter": {
     "outputs_hidden": false
    },
    "pycharm": {
     "name": "#%%\n"
    }
   },
   "outputs": [],
   "source": [
    "G32 = Graph(G4)\n",
    "for u, v, l in G32.edges():\n",
    "\tG32.set_edge_label(u, v, f'({u},{v})')"
   ]
  },
  {
   "cell_type": "code",
   "execution_count": null,
   "metadata": {
    "collapsed": false,
    "jupyter": {
     "outputs_hidden": false
    },
    "pycharm": {
     "name": "#%%\n"
    }
   },
   "outputs": [],
   "source": [
    "tric32 = TriconnectivitySPQR_Aux(G32)\n",
    "print(len(tric32.comp_list_new1))\n",
    "print(tric32.comp_list_new1)"
   ]
  },
  {
   "cell_type": "code",
   "execution_count": null,
   "metadata": {
    "collapsed": false,
    "jupyter": {
     "outputs_hidden": false
    },
    "pycharm": {
     "name": "#%%\n"
    }
   },
   "outputs": [],
   "source": [
    "tric32.type1"
   ]
  },
  {
   "cell_type": "code",
   "execution_count": null,
   "metadata": {
    "collapsed": false,
    "jupyter": {
     "outputs_hidden": false
    },
    "pycharm": {
     "name": "#%%\n"
    }
   },
   "outputs": [],
   "source": [
    "tric32.type2"
   ]
  },
  {
   "cell_type": "code",
   "execution_count": null,
   "metadata": {
    "collapsed": false,
    "jupyter": {
     "outputs_hidden": false
    },
    "pycharm": {
     "name": "#%%\n"
    }
   },
   "outputs": [],
   "source": [
    "for componente in tric32.comp_list_new1:\n",
    "\tgrafo = Graph(componente)\n",
    "\tgrafo.graphplot(edge_labels=True).show()\n",
    "\topts = grafo.latex_options()\n",
    "\tgrafo.set_latex_options(tkz_style='Normal')\n",
    "\tcheck_tkz_graph()\n",
    "\tprint(opts.tkz_picture())\n",
    "#check_tkz_graph()\n",
    "#print(latex(grafo))"
   ]
  },
  {
   "cell_type": "code",
   "execution_count": null,
   "metadata": {
    "collapsed": false,
    "jupyter": {
     "outputs_hidden": false
    },
    "pycharm": {
     "name": "#%%\n"
    }
   },
   "outputs": [],
   "source": [
    "tric = TriconnectivitySPQR(G32)\n",
    "T = tric.get_spqr_tree()\n",
    "G22.is_isomorphic(spqr_tree_to_graph(T))"
   ]
  },
  {
   "cell_type": "code",
   "execution_count": null,
   "metadata": {
    "collapsed": false,
    "jupyter": {
     "outputs_hidden": false
    },
    "pycharm": {
     "name": "#%%\n"
    }
   },
   "outputs": [],
   "source": [
    "tric.print_triconnected_components()"
   ]
  },
  {
   "cell_type": "code",
   "execution_count": null,
   "metadata": {
    "collapsed": false,
    "jupyter": {
     "outputs_hidden": false
    },
    "pycharm": {
     "name": "#%%\n"
    }
   },
   "outputs": [],
   "source": [
    "tric.get_triconnected_components()"
   ]
  },
  {
   "cell_type": "code",
   "execution_count": null,
   "metadata": {
    "collapsed": false,
    "jupyter": {
     "outputs_hidden": false
    },
    "pycharm": {
     "name": "#%%\n"
    }
   },
   "outputs": [],
   "source": [
    "componentes = tric.get_triconnected_components()\n",
    "for componente in componentes:\n",
    "\tgrafo = Graph(componente[1])\n",
    "\tgrafo.graphplot(edge_labels=True).show()\n",
    "\topts = grafo.latex_options()\n",
    "\tgrafo.set_latex_options(tkz_style='Normal')\n",
    "\tcheck_tkz_graph()\n",
    "\tprint(opts.tkz_picture())\n",
    "#check_tkz_graph()\n",
    "#print(latex(grafo))"
   ]
  },
  {
   "cell_type": "code",
   "execution_count": null,
   "metadata": {
    "collapsed": false,
    "jupyter": {
     "outputs_hidden": false
    },
    "pycharm": {
     "name": "#%%\n"
    }
   },
   "outputs": [],
   "source": []
  }
 ],
 "metadata": {
  "kernelspec": {
   "display_name": "SageMath 9.0",
   "language": "sage",
   "name": "sagemath"
  },
  "language_info": {
   "codemirror_mode": {
    "name": "ipython",
    "version": 3
   },
   "file_extension": ".py",
   "mimetype": "text/x-python",
   "name": "python",
   "nbconvert_exporter": "python",
   "pygments_lexer": "ipython3",
   "version": "3.7.10"
  }
 },
 "nbformat": 4,
 "nbformat_minor": 4
}