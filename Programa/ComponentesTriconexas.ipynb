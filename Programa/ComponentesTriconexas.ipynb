{
 "cells": [
  {
   "cell_type": "code",
   "execution_count": 20,
   "metadata": {
    "pycharm": {
     "name": "#%%\n"
    }
   },
   "outputs": [],
   "source": [
    "from __future__ import absolute_import\n",
    "from sage.graphs.connectivity import TriconnectivitySPQR\n",
    "from sage.graphs.connectivity import spqr_tree_to_graph\n",
    "from sage.graphs.graph_latex import check_tkz_graph\n",
    "from sage.graphs.graph import Graph\n",
    "from sage.rings.integer import Integer"
   ]
  },
  {
   "cell_type": "code",
   "execution_count": 21,
   "outputs": [],
   "source": [
    "from operator import itemgetter\n",
    "import pandas as pd\n",
    "import itertools\n",
    "import os\n",
    "import networkx as nx\n",
    "from networkx.drawing.nx_pydot import to_pydot\n",
    "from graphviz import Source\n",
    "import matplotlib.pyplot as plt\n",
    "import warnings\n",
    "warnings.filterwarnings('ignore')"
   ],
   "metadata": {
    "collapsed": false,
    "pycharm": {
     "name": "#%%\n"
    }
   }
  },
  {
   "cell_type": "code",
   "execution_count": 22,
   "outputs": [],
   "source": [
    "class recorridoDepth:\n",
    "\n",
    "\tdef __init__(self, G, s):\n",
    "\t\tself.G = G\n",
    "\t\tself.s = s\n",
    "\t\tself.tree = nx.DiGraph()\n",
    "\t\tself.e_t = set()\n",
    "\t\tself.e_b = set()\n",
    "\t\tself.n = 0\n",
    "\t\tself.lowpt1 = {b:0  for b in G.keys()}\n",
    "\t\tself.lowpt2 = {b:0  for b in G.keys()}\n",
    "\t\tself.ln = {b:0  for b in G.keys()}\n",
    "\t\tself.nD = {b:0  for b in G.keys()}\n",
    "\t\tself.father = {b:0  for b in G.keys()}\n",
    "\t\tself.ln[1] = 1\n",
    "\t\tself.father[1] = None\n",
    "\t\tself.flag = {b:True  for b in G.keys()}\n",
    "\t\tself.G2 = nx.DiGraph()\n",
    "\t\tself.G1 = nx.DiGraph()\n",
    "\t\tself.m = len(G.keys())\n",
    "\t\tself.descendientes = {b:set()  for b in G.keys()}\n",
    "\n",
    "\tdef d_f(self, v, u=0):\n",
    "\t\tself.n = self.n + 1\n",
    "\t\tself.lowpt1[v] = self.lowpt2[v] = self.ln[v] = self.n\n",
    "\t\tself.nD[v] = 1\n",
    "\t\tfor w in self.G[v]:\n",
    "\t\t\te2 = (v, w)\n",
    "\t\t\tif self.ln[w] == 0:\n",
    "\t\t\t\tself.e_t.add(e2)\n",
    "\t\t\t\tself.d_f(w, v)\n",
    "\t\t\t\tself.adjust_lowpt1(v, w)\n",
    "\t\t\t\tself.father[w] = v\n",
    "\t\t\t\tself.nD[v] = self.nD[v] + self.nD[w]\n",
    "\t\t\telif (self.ln[w] < self.ln[v]) and ((w != u) or (not self.flag[v])):\n",
    "\t\t\t\tself.e_b.add(e2)\n",
    "\t\t\t\tself.adjust_lowpt2(v, w)\n",
    "\t\t\tif w == u:\n",
    "\t\t\t\tself.flag[v] = False\n",
    "\t\tself.G1.add_edges_from(list(self.e_t), color='red', style='dashed')\n",
    "\t\tself.G2.add_edges_from(list(self.e_b), color='blue')\n",
    "\n",
    "\tdef adjust_lowpt1(self, v, w):\n",
    "\t\tif self.lowpt1[w] < self.lowpt1[v]:\n",
    "\t\t\tself.lowpt2[v] = min(self.lowpt1[v], self.lowpt2[w])\n",
    "\t\t\tself.lowpt1[v] = self.lowpt1[w]\n",
    "\t\telif self.lowpt1[w] == self.lowpt1[v]:\n",
    "\t\t\tself.lowpt2[v] = min(self.lowpt2[v], self.lowpt2[w])\n",
    "\t\telse:\n",
    "\t\t\tself.lowpt2[v] = min(self.lowpt2[v], self.lowpt1[w])\n",
    "\t\treturn self.lowpt1, self.lowpt2\n",
    "\n",
    "\tdef adjust_lowpt2(self, v, w):\n",
    "\t\tif self.ln[w] < self.lowpt1[v]:\n",
    "\t\t\tself.lowpt2[v] = self.lowpt1[v]\n",
    "\t\t\tself.lowpt1[v] = self.ln[w]\n",
    "\t\telif self.ln[w] > self.lowpt1[v]:\n",
    "\t\t\tself.lowpt2[v] = min(self.lowpt2[v], self.ln[w])\n",
    "\t\treturn self.lowpt1, self.lowpt2\n",
    "\n",
    "\tdef dFS(self):\n",
    "\t\tself.d_f(self.s, u=0)\n",
    "\t\treturn sorted(self.e_t, key=itemgetter(0,1)), sorted(self.e_b, key=itemgetter(0,1))\n",
    "\n",
    "\tdef dibujar_grafo_recorrido(self, file):\n",
    "\n",
    "\t\tself.tree = self.depthTree()\n",
    "\n",
    "\t\tcolors = nx.get_edge_attributes(self.tree,'color').values()\n",
    "\t\tdot = to_pydot(self.tree).to_string()\n",
    "\t\t#print(dot)\n",
    "\n",
    "\t\tsrc = Source(dot) # dot is string containing DOT notation of graph\n",
    "\t\t#src.view()\n",
    "\n",
    "\t\tname, ext = os.path.splitext(file)\n",
    "\t\tgraph = Source(dot)\n",
    "\t\tgraph.format = ext[1:]\n",
    "\t\tgraph.render(name, cleanup=True)\n",
    "\t\treturn graph\n",
    "\n",
    "\tdef depthTree(self):\n",
    "\t\tX = range(1, len(list(self.G.values()))+1)\n",
    "\t\tself.G1.add_edges_from(list(self.e_t), color='red', style='dashed')\n",
    "\t\tself.G2.add_edges_from(list(self.e_b), color='blue')\n",
    "\t\tself.tree = nx.compose(self.G1, self.G2)\n",
    "\t\tself.tree.add_nodes_from(X)\n",
    "\t\treturn self.tree\n",
    "\n",
    "\t#def lowpt(self):\n",
    "\t#    return self.lowpt1, self.lowpt2\n",
    "\n",
    "\tdef fathers(self):\n",
    "\t\treturn self.father\n",
    "\n",
    "\tdef low1_low2(self):\n",
    "\t\tdf = pd.DataFrame(list(self.lowpt1.items()),\n",
    "\t\t\t\t\t\t  columns=['vertice', 'lowpt1'])\n",
    "\t\tdf['lowpt2'] = self.lowpt2.values()\n",
    "\t\treturn df\n",
    "\n",
    "\tdef descendants(self):\n",
    "\t\tfor i in self.G1.nodes():\n",
    "\t\t\tself.descendientes[i] = nx.descendants(self.G1, i)\n",
    "\t\treturn self.descendientes"
   ],
   "metadata": {
    "collapsed": false,
    "pycharm": {
     "name": "#%%\n"
    }
   }
  },
  {
   "cell_type": "code",
   "execution_count": 23,
   "outputs": [],
   "source": [
    "class auxTricconected(recorridoDepth):\n",
    "\n",
    "\tdef __init__(self, G, s):\n",
    "\t\trecorridoDepth.__init__(self, G, s)\n",
    "\t\tself.Spanning_Tree, self.Bactracking_Tree  = self.dFS()\n",
    "\t\tself.path = []\n",
    "\t\tself.i = 1\n",
    "\t\tself.paths = []\n",
    "\n",
    "\tdef etiquetado(self):\n",
    "\t\tedge = list((a, b) for (a, b) in self.G1.edges())\n",
    "\t\tedges = list((a, b) for (a, b) in self.G2.edges())\n",
    "\t\ts_t = {(a, b):0 for (a, b) in edge}\n",
    "\t\tb_t = {(a, b):0 for (a, b) in edges}\n",
    "\t\tfor u, v in s_t.copy().items():\n",
    "\t\t\tif self.lowpt2[u[1]] < u[0]:\n",
    "\t\t\t\ts_t[u] = 3*self.lowpt1[u[1]]\n",
    "\t\t\tif self.lowpt2[u[1]] >= u[0]:\n",
    "\t\t\t\ts_t[u] = 3*self.lowpt1[u[1]] + 2\n",
    "\t\tfor u, v in b_t.copy().items():\n",
    "\t\t\tb_t[u] = 3*u[1] + 1\n",
    "\t\treturn s_t, b_t\n",
    "\n",
    "\tdef ordenado(self):\n",
    "\t\to_t, o_b = self.etiquetado()\n",
    "\t\to_a = {**o_t, **o_b}\n",
    "\t\td_o = dict(sorted(o_a.items(), key=itemgetter(1)))\n",
    "\t\treturn list(d_o.keys())\n",
    "\n",
    "\tdef ordenamientoDic(self):\n",
    "\t\taristas_ordenadas = self.ordenado()\n",
    "\t\tdicc = {}\n",
    "\t\tfor sublista in aristas_ordenadas:\n",
    "\t\t\tkey = sublista[0]\n",
    "\t\t\tvalue = sublista[1]\n",
    "\t\t\tif key not in dicc:\n",
    "\t\t\t\tdicc[key] = []\n",
    "\t\t\tdicc[key].append(value)\n",
    "\t\tvalores_ord = dict(sorted(dicc.items()))\n",
    "\t\treturn valores_ord\n",
    "\n",
    "\tdef pathfinder(self, u):\n",
    "\t\tordDic = self.ordenamientoDic()\n",
    "\t\tfor v in ordDic[u]:\n",
    "\t\t\tif (u, v) in self.e_t:\n",
    "\t\t\t\tself.path.append((u, v))\n",
    "\t\t\t\tself.pathfinder(v)\n",
    "\t\t\tif (u, v) in self.e_b:\n",
    "\t\t\t\tself.path.append((u,v))\n",
    "\t\t\t\tself.paths.append({self.i:self.path})\n",
    "\t\t\t\tprint(\"path: \", self.path)\n",
    "\t\t\t\tself.i+=1\n",
    "\t\t\tself.path=[]\n",
    "\t\treturn self.paths"
   ],
   "metadata": {
    "collapsed": false,
    "pycharm": {
     "name": "#%%\n"
    }
   }
  },
  {
   "cell_type": "code",
   "execution_count": 24,
   "outputs": [],
   "source": [
    "class _LinkedListNode:\n",
    "\t\"\"\"\n",
    "\tNode in a ``_LinkedList``.\n",
    "\n",
    "\tThis class implements a node of a (doubly) linked list and so has pointers\n",
    "\tto previous and next nodes in the list.\n",
    "\t\"\"\"\n",
    "\tdef __init__(self, data=None):\n",
    "\t\t\"\"\"\n",
    "\t\tInitialize this ``_LinkedListNode``.\n",
    "\n",
    "\t\tINPUT:\n",
    "\n",
    "\t\t- ``data`` -- (default: ``None``) either an edge, or an integer.\n",
    "\t\t\"\"\"\n",
    "\t\tself.data = data\n",
    "\t\tself.prev = None\n",
    "\t\tself.next = None\n",
    "\t\tself.set_data(self.data)\n",
    "\n",
    "\tdef set_data(self, data):\n",
    "\t\tself.data = data\n",
    "\n",
    "\tdef get_data(self):\n",
    "\t\treturn self.data"
   ],
   "metadata": {
    "collapsed": false,
    "pycharm": {
     "name": "#%%\n"
    }
   }
  },
  {
   "cell_type": "code",
   "execution_count": 25,
   "outputs": [],
   "source": [
    "class _LinkedList:\n",
    "\t\"\"\"\n",
    "\tA doubly linked list with head and tail pointers.\n",
    "\n",
    "\tThis is a helper class for ``TriconnectivitySPQR``.\n",
    "\n",
    "\tThis class implements a doubly linked list of ``_LinkedListNode``.\n",
    "\t\"\"\"\n",
    "\tdef __init__(self):\n",
    "\t\t\"\"\"\n",
    "\t\tInitialize this ``_LinkedList``.\n",
    "\t\t\"\"\"\n",
    "\t\tself.head = None\n",
    "\t\tself.tail = None\n",
    "\t\tself.length = 0\n",
    "\n",
    "\tdef remove(self, node):\n",
    "\t\t\"\"\"\n",
    "\t\tRemove the node ``node`` from the linked list.\n",
    "\t\t\"\"\"\n",
    "\t\tif node.prev is None and node.next is None:\n",
    "\t\t\tself.head = None\n",
    "\t\t\tself.tail = None\n",
    "\t\telif node.prev is None: # node is head\n",
    "\t\t\tself.head = node.next\n",
    "\t\t\tnode.next.prev = None\n",
    "\t\telif node.next is None: #node is tail\n",
    "\t\t\tnode.prev.next = None\n",
    "\t\t\tself.tail = node.prev\n",
    "\t\telse:\n",
    "\t\t\tnode.prev.next = node.next\n",
    "\t\t\tnode.next.prev = node.prev\n",
    "\t\tself.length -= 1\n",
    "\n",
    "\tdef set_head(self, h):\n",
    "\t\t\"\"\"\n",
    "\t\tSet the node ``h`` as the head of the linked list.\n",
    "\t\t\"\"\"\n",
    "\t\tself.head = h\n",
    "\t\tself.tail = h\n",
    "\t\tself.length = 1\n",
    "\n",
    "\tdef append(self, node):\n",
    "\t\t\"\"\"\n",
    "\t\tAppend the node ``node`` to the linked list.\n",
    "\t\t\"\"\"\n",
    "\t\tif self.head is None:\n",
    "\t\t\tself.set_head(node)\n",
    "\t\telse:\n",
    "\t\t\tself.tail.next = node\n",
    "\t\t\tnode.prev = self.tail\n",
    "\t\t\tself.tail = node\n",
    "\t\t\tself.length += 1\n",
    "\n",
    "\tdef get_head(self):\n",
    "\t\treturn self.head\n",
    "\n",
    "\tdef get_length(self):\n",
    "\t\treturn self.length\n",
    "\n",
    "\tdef push_front(self, node):\n",
    "\t\t\"\"\"\n",
    "\t\tAdd node ``node`` to the beginning of the linked list.\n",
    "\t\t\"\"\"\n",
    "\t\tif self.head is None:\n",
    "\t\t\tself.set_head(node)\n",
    "\t\telse:\n",
    "\t\t\tself.head.prev = node\n",
    "\t\t\tnode.next = self.head\n",
    "\t\t\tself.head = node\n",
    "\t\t\tself.length += 1\n",
    "\n",
    "\tdef to_string(self):\n",
    "\t\t\"\"\"\n",
    "\t\tReturn a string representation of self.\n",
    "\t\t\"\"\"\n",
    "\t\ttemp = self.head\n",
    "\t\ts = \"\"\n",
    "\t\twhile temp:\n",
    "\t\t\ts += \"  \" + str(temp.get_data())\n",
    "\t\t\ttemp = temp.next\n",
    "\t\treturn s\n",
    "\n",
    "\tdef concatenate(self, lst2):\n",
    "\t\t\"\"\"\n",
    "\t\tConcatenate lst2 to self.\n",
    "\n",
    "\t\tMakes lst2 empty.\n",
    "\t\t\"\"\"\n",
    "\t\tself.tail.next = lst2.head\n",
    "\t\tlst2.head.prev = self.tail\n",
    "\t\tself.tail = lst2.tail\n",
    "\t\tself.length += lst2.length\n",
    "\t\tlst2.head = None\n",
    "\t\tlst2.length = 0"
   ],
   "metadata": {
    "collapsed": false,
    "pycharm": {
     "name": "#%%\n"
    }
   }
  },
  {
   "cell_type": "code",
   "execution_count": null,
   "outputs": [],
   "source": [
    "class _Component:\n",
    "\t\"\"\"\n",
    "\tConnected component class.\n",
    "\n",
    "\tThis is a helper class for ``TriconnectivitySPQR``.\n",
    "\n",
    "\tThis class is used to store a connected component. It contains:\n",
    "\t- ``edge_list`` -- list of edges belonging to the component, stored as a\n",
    "\t  ``_LinkedList``.\n",
    "\n",
    "\t- ``component_type`` -- the type of the component.\n",
    "\t\t- 0 if bond.\n",
    "\t\t- 1 if polygon.\n",
    "\t\t- 2 is triconnected component.\n",
    "\t\"\"\"\n",
    "\tdef __init__(self, edge_list, type_c):\n",
    "\t\t\"\"\"\n",
    "\t\tInitialize this component.\n",
    "\n",
    "\t\tINPUT:\n",
    "\n",
    "\t\t- ``edge_list`` -- list of edges to be added to the component.\n",
    "\n",
    "\t\t- `type_c` -- type of the component (0, 1, or 2).\n",
    "\t\t\"\"\"\n",
    "\t\tself.edge_list = _LinkedList()\n",
    "\t\tfor e in edge_list:\n",
    "\t\t\tself.add_edge(e)\n",
    "\t\tself.component_type = type_c\n",
    "\n",
    "\tdef add_edge(self, e):\n",
    "\t\tself.edge_list.append(_LinkedListNode(e))\n",
    "\n",
    "\tdef finish_tric_or_poly(self, e):\n",
    "\t\tr\"\"\"\n",
    "\t\tFinalize the component by adding edge `e`.\n",
    "\n",
    "\t\tEdge `e` is the last edge to be added to the component.\n",
    "\t\tClassify the component as a polygon or triconnected component\n",
    "\t\tdepending on the number of edges belonging to it.\n",
    "\t\t\"\"\"\n",
    "\t\tself.add_edge(e)\n",
    "\t\tif self.edge_list.get_length() > 3:\n",
    "\t\t\tself.component_type = 2\n",
    "\t\telse:\n",
    "\t\t\tself.component_type = 1\n",
    "\n",
    "\tdef __str__(self):\n",
    "\t\t\"\"\"\n",
    "\t\tReturn a string representation of the component.\n",
    "\t\t\"\"\"\n",
    "\t\tif self.component_type == 0:\n",
    "\t\t\ttype_str = \"Bond: \"\n",
    "\t\telif self.component_type == 1:\n",
    "\t\t\ttype_str =  \"Polygon: \"\n",
    "\t\telse:\n",
    "\t\t\ttype_str = \"Triconnected: \"\n",
    "\t\treturn type_str + self.edge_list.to_string()\n",
    "\n",
    "\tdef get_edge_list(self):\n",
    "\t\t\"\"\"\n",
    "\t\tReturn the list of edges belonging to the component.\n",
    "\t\t\"\"\"\n",
    "\t\te_list = []\n",
    "\t\te_node = self.edge_list.get_head()\n",
    "\t\twhile e_node:\n",
    "\t\t\te_list.append(e_node.get_data())\n",
    "\t\t\te_node = e_node.next\n",
    "\t\treturn e_list"
   ],
   "metadata": {
    "collapsed": false,
    "pycharm": {
     "name": "#%%\n"
    }
   }
  },
  {
   "cell_type": "code",
   "execution_count": null,
   "outputs": [],
   "source": [
    "class TriconnectivitySPQR_Aux:\n",
    "\tr\"\"\"\n",
    "\tDecompose a graph into triconnected components and build SPQR-tree.\n",
    "\n",
    "\tThis class implements the algorithm proposed by Hopcroft and Tarjan in\n",
    "\t[Hopcroft1973]_, and later corrected by Gutwenger and Mutzel in [Gut2001]_,\n",
    "\tfor finding the triconnected components of a biconnected graph. It then\n",
    "\torganizes these components into a SPQR-tree. See the:wikipedia:`SPQR_tree`.\n",
    "\n",
    "\tA SPQR-tree is a tree data structure used to represent the triconnected\n",
    "\tcomponents of a biconnected (multi)graph and the 2-vertex cuts separating\n",
    "\tthem. A node of a SPQR-tree, and the graph associated with it, can be one of\n",
    "\tthe following four types:\n",
    "\n",
    "\t- ``\"S\"`` -- the associated graph is a cycle with at least three vertices.\n",
    "\t  ``\"S\"`` stands for ``series`` and is also called a ``polygon``.\n",
    "\n",
    "\t- ``\"P\"`` -- the associated graph is a dipole graph, a multigraph with two\n",
    "\t  vertices and three or more edges. ``\"P\"`` stands for ``parallel`` and the\n",
    "\t  node is called a ``bond``.\n",
    "\n",
    "\t- ``\"Q\"`` -- the associated graph has a single real edge. This trivial case\n",
    "\t  is necessary to handle the graph that has only one edge.\n",
    "\n",
    "\t- ``\"R\"`` -- the associated graph is a 3-vertex-connected graph that is not\n",
    "\t  a cycle or dipole. ``\"R\"`` stands for ``rigid``.\n",
    "\n",
    "\tThe edges of the tree indicate the 2-vertex cuts of the graph.\n",
    "\n",
    "\tINPUT:\n",
    "\n",
    "\t- ``G`` -- the input graph. If ``G`` is a DiGraph, the computation is done\n",
    "\t  on the underlying Graph (i.e., ignoring edge orientation).\n",
    "\n",
    "\t- ``check`` -- boolean (default: ``True``); indicates whether ``G`` needs to\n",
    "\t  be tested for biconnectivity.\n",
    "\n",
    "\tAn example from [Hopcroft1973]_::\n",
    "\n",
    "\t\tsage: G = Graph([(1, 2), (1, 4), (1, 8), (1, 12), (1, 13), (2, 3),\n",
    "\t\t....: (2, 13), (3, 4), (3, 13), (4, 5), (4, 7), (5, 6), (5, 7), (5, 8),\n",
    "\t\t....: (6, 7), (8, 9), (8, 11), (8, 12), (9, 10), (9, 11), (9, 12),\n",
    "\t\t....: (10, 11), (10, 12)])\n",
    "\t\tsage: tric = TriconnectivitySPQR(G)\n",
    "\t\tsage: tric.print_triconnected_components()\n",
    "\t\tTriconnected:  [(8, 9, None), (9, 10, None), (10, 11, None), (9, 11, None), (8, 11, None), (10, 12, None), (9, 12, None), (8, 12, 'newVEdge0')]\n",
    "\t\tBond:  [(8, 12, None), (8, 12, 'newVEdge0'), (8, 12, 'newVEdge1')]\n",
    "\t\tPolygon:  [(8, 12, 'newVEdge1'), (1, 12, None), (8, 1, 'newVEdge2')]\n",
    "\t\tBond:  [(1, 8, None), (8, 1, 'newVEdge2'), (8, 1, 'newVEdge3')]\n",
    "\t\tPolygon:  [(5, 8, None), (8, 1, 'newVEdge3'), (4, 5, 'newVEdge8'), (4, 1, 'newVEdge9')]\n",
    "\t\tPolygon:  [(5, 6, None), (6, 7, None), (5, 7, 'newVEdge5')]\n",
    "\t\tBond:  [(5, 7, None), (5, 7, 'newVEdge5'), (5, 7, 'newVEdge6')]\n",
    "\t\tPolygon:  [(5, 7, 'newVEdge6'), (4, 7, None), (5, 4, 'newVEdge7')]\n",
    "\t\tBond:  [(5, 4, 'newVEdge7'), (4, 5, 'newVEdge8'), (4, 5, None)]\n",
    "\t\tBond:  [(1, 4, None), (4, 1, 'newVEdge9'), (4, 1, 'newVEdge10')]\n",
    "\t\tPolygon:  [(3, 4, None), (4, 1, 'newVEdge10'), (3, 1, 'newVEdge11')]\n",
    "\t\tTriconnected:  [(1, 13, None), (2, 13, None), (3, 13, None), (3, 1, 'newVEdge11'), (2, 3, None), (1, 2, None)]\n",
    "\t\"\"\"\n",
    "\tdef __init__(self, G, check=True):\n",
    "\t\t\"\"\"\n",
    "\t\tInitialize this object, decompose the graph and build SPQR-tree.\n",
    "\n",
    "\t\tINPUT:\n",
    "\n",
    "\t\t- ``G`` -- the input graph. If ``G`` is a DiGraph, the computation is\n",
    "\t\t  done on the underlying Graph (i.e., ignoring edge orientation).\n",
    "\n",
    "\t\t- ``check`` -- boolean (default: ``True``); indicates whether ``G``\n",
    "\t\t  needs to be tested for biconnectivity.\n",
    "\t\t\"\"\"\n",
    "\t\tself.n = G.order()\n",
    "\t\tself.m = G.size()\n",
    "\t\tself.graph_name = G.name()\n",
    "\n",
    "\t\t# Trivial cases\n",
    "\t\tif self.n < 2:\n",
    "\t\t\traise ValueError(\"Graph is not biconnected\")\n",
    "\t\telif self.n == 2 and self.m:\n",
    "\t\t\t# a P block with at least 1 edge\n",
    "\t\t\tself.comp_list_new = [G.edges()]\n",
    "\t\t\tself.comp_type = [0]\n",
    "\t\t\tself.__build_spqr_tree()\n",
    "\t\t\treturn\n",
    "\t\telif self.m < self.n -1:\n",
    "\t\t\t# less edges than a tree\n",
    "\t\t\traise ValueError(\"Graph is not connected\")\n",
    "\t\telif self.m < self.n:\n",
    "\t\t\t# less edges than a cycle\n",
    "\t\t\traise ValueError(\"Graph is not biconnected\")\n",
    "\n",
    "\t\t# Make a copy of the input graph G in which\n",
    "\t\t# - vertices are relabeled as integers in [0..n-1]\n",
    "\t\t# - edges are relabeled with distinct labels in order to distinguish\n",
    "\t\t#   between multi-edges\n",
    "\t\tself.int_to_vertex = G.vertices()\n",
    "\t\tself.vertex_to_int = {u:i for i,u in enumerate(self.int_to_vertex)}\n",
    "\t\tself.int_to_original_edge_label = [] # to associate original edge label\n",
    "\t\tself.graph_copy = Graph(self.n, multiedges=True)\n",
    "\t\tfor i,(u, v, l) in enumerate(G.edge_iterator()):\n",
    "\t\t\tself.graph_copy.add_edge(self.vertex_to_int[u], self.vertex_to_int[v], i)\n",
    "\t\t\tself.int_to_original_edge_label.append(l)\n",
    "\n",
    "\t\t#\n",
    "\t\t# Initialize data structures needed for the algorithm\n",
    "\t\t#\n",
    "\n",
    "\t\t# status of each edge: unseen=0, tree=1, frond=2\n",
    "\t\tself.edge_status = {e: 0 for e in self.graph_copy.edge_iterator()}\n",
    "\n",
    "\t\t# Edges of the graph which are in the reverse direction in palm tree\n",
    "\t\tself.reverse_edges = set()\n",
    "\n",
    "\t\tself.dfs_number = [0 for i in range(self.n+1)] # DFS number of vertex i\n",
    "\n",
    "\t\t# Linked list of fronds entering vertex i in the order they are visited\n",
    "\t\tself.highpt = [_LinkedList() for i in range(self.n)]\n",
    "\n",
    "\t\t# A dictionary whose key is an edge e, value is a pointer to element in\n",
    "\t\t# self.highpt containing the edge e. Used in the `path_search` function.\n",
    "\t\tself.in_high = {e:None for e in self.graph_copy.edge_iterator()}\n",
    "\n",
    "\t\t# Translates DFS number of a vertex to its new number\n",
    "\t\tself.old_to_new = [0 for i in range(self.n+1)]\n",
    "\t\tself.newnum = [0 for i in range(self.n)] # new number of vertex i\n",
    "\t\tself.node_at = [0 for i in range(self.n+1)] # node at dfs number of i\n",
    "\t\tself.lowpt1 = [None for i in range(self.n)] # lowpt1 number of vertex i\n",
    "\t\tself.lowpt2 = [None for i in range(self.n)] # lowpt2 number of vertex i\n",
    "\n",
    "\t\t# i^th value contains a LinkedList of incident edges of vertex i\n",
    "\t\tself.adj = [_LinkedList() for i in range(self.n)]\n",
    "\n",
    "\t\t# A dictionary whose key is an edge, value is a pointer to element in\n",
    "\t\t# self.adj containing the edge. Used in the `path_search` function.\n",
    "\t\tself.in_adj = {}\n",
    "\t\tself.nd = [None for i in range(self.n)] # number of descendants of vertex i\n",
    "\n",
    "\t\t# Parent vertex of vertex i in the palm tree\n",
    "\t\tself.parent = [None for i in range(self.n)]\n",
    "\t\tself.degree = [None for i in range(self.n)] # Degree of vertex i\n",
    "\t\tself.tree_arc = [None for i in range(self.n)] # Tree arc entering the vertex i\n",
    "\t\tself.vertex_at = [1 for i in range(self.n)] # vertex with DFS number of i\n",
    "\t\tself.dfs_counter = 0\n",
    "\t\tself.components_list = [] # list of components of `graph_copy`\n",
    "\t\tself.graph_copy_adjacency = [[] for i in range(self.n)] # Stores adjacency list\n",
    "\n",
    "\t\t# Dictionary of (e, True/False) to denote if edge e starts a path\n",
    "\t\tself.starts_path = {e:False for e in self.graph_copy.edge_iterator()}\n",
    "\n",
    "\t\tself.is_biconnected = True # Boolean to store if the graph is biconnected or not\n",
    "\t\tself.cut_vertex = None # If graph is not biconnected\n",
    "\n",
    "\t\t# Label used for virtual edges, incremented at every new virtual edge\n",
    "\t\tself.virtual_edge_num = 0\n",
    "\t\t# Virtual edges are stored in a set\n",
    "\t\tself.virtual_edges = set()\n",
    "\n",
    "\t\tself.new_path = False # Boolean used to store if new path is started\n",
    "\n",
    "\t\t# Stacks used in `path_search` function\n",
    "\t\tself.e_stack = []\n",
    "\t\tself.t_stack_h = [None for i in range(2*self.m + 1)]\n",
    "\t\tself.t_stack_a = [None for i in range(2*self.m + 1)]\n",
    "\t\tself.t_stack_b = [None for i in range(2*self.m + 1)]\n",
    "\t\tself.t_stack_top = 0\n",
    "\t\tself.t_stack_a[self.t_stack_top] = -1\n",
    "\n",
    "\t\t# The final triconnected components are stored\n",
    "\t\tself.comp_list_new = [] # i^th entry is list of edges in i^th component\n",
    "\t\tself.comp_type = [] # i^th entry is type of i^th component\n",
    "\t\t# The final SPQR tree is stored\n",
    "\t\tself.spqr_tree = None # Graph\n",
    "\n",
    "\t\tself.type1 = []\n",
    "\t\tself.type2 = []\n",
    "\t\t#\n",
    "\t\t# Triconnectivity algorithm\n",
    "\t\t#\n",
    "\n",
    "\t\t# Deal with multiple edges\n",
    "\t\tself.__split_multiple_edges()\n",
    "\n",
    "\t\t# Build adjacency list\n",
    "\t\tfor e in self.graph_copy.edge_iterator():\n",
    "\t\t\tself.graph_copy_adjacency[e[0]].append(e)\n",
    "\t\t\tself.graph_copy_adjacency[e[1]].append(e)\n",
    "\n",
    "\t\tself.dfs_counter = 0 # Initialisation for dfs1()\n",
    "\t\tself.start_vertex = 0 # Initialisation for dfs1()\n",
    "\t\tself.cut_vertex = self.__dfs1(self.start_vertex, check=check)\n",
    "\n",
    "\t\tif check:\n",
    "\t\t\t# If graph is disconnected\n",
    "\t\t\tif self.dfs_counter < self.n:\n",
    "\t\t\t\traise ValueError(\"Graph is not connected\")\n",
    "\n",
    "\t\t\t# If graph has a cut vertex\n",
    "\t\t\tif self.cut_vertex != None:\n",
    "\t\t\t\traise ValueError(\"Graph has a cut vertex\")\n",
    "\n",
    "\t\t# Identify reversed edges to reflect the palm tree arcs and fronds\n",
    "\t\tfor e in self.graph_copy.edge_iterator():\n",
    "\t\t\tup = (self.dfs_number[e[1]] - self.dfs_number[e[0]]) > 0\n",
    "\t\t\tif (up and self.edge_status[e]==2) or (not up and self.edge_status[e]==1):\n",
    "\t\t\t\t# Add edge to the set reverse_edges\n",
    "\t\t\t\tself.reverse_edges.add(e)\n",
    "\n",
    "\t\tself.__build_acceptable_adj_struct()\n",
    "\t\tself.__dfs2()\n",
    "\n",
    "\t\tself.__path_search(self.start_vertex)\n",
    "\n",
    "\t\t# last split component\n",
    "\t\tif self.e_stack:\n",
    "\t\t\te = self.__estack_pop()\n",
    "\t\t\tc = _Component(self.e_stack, 0)\n",
    "\t\t\tc.finish_tric_or_poly(e)\n",
    "\t\t\tself.components_list.append(c)\n",
    "\n",
    "\t\tself.__print_split()\n",
    "\t\tself.__assemble_triconnected_components()\n",
    "\n",
    "\t\tself.__build_spqr_tree()\n",
    "\n",
    "\tdef __tstack_push(self, h, a, b):\n",
    "\t\t\"\"\"\n",
    "\t\tPush ``(h, a, b)`` triple on Tstack\n",
    "\t\t\"\"\"\n",
    "\t\tself.t_stack_top += 1\n",
    "\t\tself.t_stack_h[self.t_stack_top] = h\n",
    "\t\tself.t_stack_a[self.t_stack_top] = a\n",
    "\t\tself.t_stack_b[self.t_stack_top] = b\n",
    "\n",
    "\tdef __tstack_push_eos(self):\n",
    "\t\t\"\"\"\n",
    "\t\tPush end-of-stack marker on Tstack\n",
    "\t\t\"\"\"\n",
    "\t\tself.t_stack_top += 1\n",
    "\t\tself.t_stack_a[self.t_stack_top] = -1\n",
    "\n",
    "\tdef __tstack_not_eos(self):\n",
    "\t\t\"\"\"\n",
    "\t\tReturn true iff end-of-stack marker is not on top of Tstack\n",
    "\t\t\"\"\"\n",
    "\t\treturn self.t_stack_a[self.t_stack_top] != -1\n",
    "\n",
    "\tdef __tstack_print(self):\n",
    "\t\t\"\"\"\n",
    "\t\tReturn true iff end-of-stack marker is not on top of Tstack\n",
    "\t\t\"\"\"\n",
    "\t\treturn self.t_stack_a, self.t_stack_b, self.t_stack_h\n",
    "\n",
    "\tdef __estack_pop(self):\n",
    "\t\t\"\"\"\n",
    "\t\tPop from estack and return the popped element\n",
    "\t\t\"\"\"\n",
    "\t\treturn self.e_stack.pop()\n",
    "\n",
    "\tdef __estack_print(self):\n",
    "\t\t\"\"\"\n",
    "\t\tPop from estack and return the popped element\n",
    "\t\t\"\"\"\n",
    "\t\treturn self.e_stack\n",
    "\n",
    "\tdef __new_component(self, edges=[], type_c=0):\n",
    "\t\t\"\"\"\n",
    "\t\tCreate a new component and add `edges` to it.\n",
    "\t\ttype_c = 0 for bond, 1 for polygon, 2 for triconnected component\n",
    "\t\t\"\"\"\n",
    "\t\tc = _Component(edges, type_c)\n",
    "\t\tself.components_list.append(c)\n",
    "\t\treturn c\n",
    "\n",
    "\tdef __new_virtual_edge(self, u, v):\n",
    "\t\t\"\"\"\n",
    "\t\tReturn a new virtual edge between `u` and `v`.\n",
    "\t\t\"\"\"\n",
    "\t\te = (u, v, \"newVEdge\"+str(self.virtual_edge_num))\n",
    "\t\tself.virtual_edge_num += 1\n",
    "\t\tself.virtual_edges.add(e)\n",
    "\t\treturn e\n",
    "\n",
    "\tdef __high(self, v):\n",
    "\t\t\"\"\"\n",
    "\t\tReturn the high(v) value, which is the first value in highpt list of v.\n",
    "\t\t\"\"\"\n",
    "\t\thead = self.highpt[v].get_head()\n",
    "\t\tif head is None:\n",
    "\t\t\treturn 0\n",
    "\t\telse:\n",
    "\t\t\treturn head.get_data()\n",
    "\n",
    "\tdef __del_high(self, e):\n",
    "\t\t\"\"\"\n",
    "\t\tDelete edge e from the highpt list of the endpoint v it belongs to.\n",
    "\t\t\"\"\"\n",
    "\t\tif e in self.in_high:\n",
    "\t\t\tit = self.in_high[e]\n",
    "\t\t\tif it:\n",
    "\t\t\t\tif e in self.reverse_edges:\n",
    "\t\t\t\t\tv = e[0]\n",
    "\t\t\t\telse:\n",
    "\t\t\t\t\tv = e[1]\n",
    "\t\t\t\tself.highpt[v].remove(it)\n",
    "\n",
    "\tdef __bucket_sort(self, bucket, edge_list):\n",
    "\t\t\"\"\"\n",
    "\t\tUse radix sort to sort the buckets\n",
    "\t\t\"\"\"\n",
    "\t\t# if only one edge is present\n",
    "\t\tif len(bucket) == 1:\n",
    "\t\t\treturn\n",
    "\n",
    "\t\t# Create n bucket linked lists\n",
    "\t\tbucket_list = []\n",
    "\t\tfor i in range(self.n):\n",
    "\t\t\tbucket_list.append(_LinkedList())\n",
    "\n",
    "\t\t# Get the head pointer of the edge list\n",
    "\t\te_node = edge_list.head\n",
    "\n",
    "\t\t# Link the n buckets w.r.t bucketId\n",
    "\t\twhile e_node:\n",
    "\t\t\tbucketId = bucket[e_node.get_data()]\n",
    "\t\t\tif bucket_list[bucketId].get_head():\n",
    "\t\t\t\tbucket_list[bucketId].tail.next = e_node\n",
    "\t\t\t\tbucket_list[bucketId].tail = bucket_list[bucketId].tail.next\n",
    "\t\t\telse:\n",
    "\t\t\t\tbucket_list[bucketId].set_head(e_node)\n",
    "\t\t\te_node = e_node.next\n",
    "\n",
    "\t\t# Rearrange the `edge_list` Using bucket list\n",
    "\t\tnew_tail = None\n",
    "\t\tfor i in range(self.n):\n",
    "\t\t\tnew_head = bucket_list[i].get_head()\n",
    "\t\t\tif new_head:\n",
    "\t\t\t\tif new_tail:\n",
    "\t\t\t\t\tnew_tail.next = new_head\n",
    "\t\t\t\telse:\n",
    "\t\t\t\t\tedge_list.set_head(new_head)\n",
    "\t\t\t\tnew_tail = bucket_list[i].tail\n",
    "\n",
    "\t\tedge_list.tail = new_tail\n",
    "\t\tnew_tail.next = None\n",
    "\n",
    "\tdef __sort_edges(self):\n",
    "\t\t\"\"\"\n",
    "\t\tA helper function for `split_multiple_edges` to sort the edges of\n",
    "\t\tgraph_copy.\n",
    "\n",
    "\t\tSorts the edges of `graph_copy` and stores the sorted edges in a linked\n",
    "\t\tlist. The head pointer of the linked list is returned.\n",
    "\n",
    "\t\tThis function is an implementation of the sorting algorithm given in\n",
    "\t\t[Hopcroft1973]_.\n",
    "\t\t\"\"\"\n",
    "\t\t# Create a linkedlist of edges\n",
    "\t\tedge_list = _LinkedList()\n",
    "\t\tfor e in self.graph_copy.edges(sort=False):\n",
    "\t\t\tedge_list.append(_LinkedListNode(e))\n",
    "\n",
    "\t\tbucketMin = {} # Contains the lower index of edge end point\n",
    "\t\tbucketMax = {} # Contains the higher index of edge end point\n",
    "\n",
    "\t\t# In `graph_copy`, every edge `(u, v)` is such that `u < v`.\n",
    "\t\t# Hence, `bucketMin` of an edge `(u, v)` will be `u`\n",
    "\t\t# and `bucketMax` will be `v`.\n",
    "\t\tfor e in self.graph_copy.edge_iterator():\n",
    "\t\t\tbucketMin[e] = e[0]\n",
    "\t\t\tbucketMax[e] = e[1]\n",
    "\n",
    "\t\t# Sort according to the endpoint with lower index\n",
    "\t\tself.__bucket_sort(bucketMin, edge_list)\n",
    "\t\t# Sort according to the endpoint with higher index\n",
    "\t\tself.__bucket_sort(bucketMax, edge_list)\n",
    "\n",
    "\t\t# Return the head pointer to the sorted edge list\n",
    "\t\treturn edge_list.get_head()\n",
    "\n",
    "\tdef __split_multiple_edges(self):\n",
    "\t\t\"\"\"\n",
    "\t\tMake the graph simple and build bonds recording multiple edges.\n",
    "\n",
    "\t\tIf there are `k` multiple edges between `u` and `v`, then a new\n",
    "\t\tcomponent (a bond) with `k+1` edges (one of them is a virtual edge) will\n",
    "\t\tbe created, all the `k` edges are deleted from the graph and the virtual\n",
    "\t\tedge between `u` and `v` is added to the graph.\n",
    "\t\t\"\"\"\n",
    "\t\tcomp = []\n",
    "\t\tif self.graph_copy.has_multiple_edges():\n",
    "\t\t\tsorted_edges = self.__sort_edges()\n",
    "\t\t\twhile sorted_edges.next:\n",
    "\t\t\t\t# Find multi edges and add to component and delete from graph\n",
    "\t\t\t\tif (sorted_edges.get_data()[0] == sorted_edges.next.get_data()[0]) and (sorted_edges.get_data()[1] == sorted_edges.next.get_data()[1]):\n",
    "\t\t\t\t\tself.graph_copy.delete_edge(sorted_edges.get_data())\n",
    "\t\t\t\t\tcomp.append(sorted_edges.get_data())\n",
    "\t\t\t\telse:\n",
    "\t\t\t\t\tif comp:\n",
    "\t\t\t\t\t\tcomp.append(sorted_edges.get_data())\n",
    "\t\t\t\t\t\tself.graph_copy.delete_edge(sorted_edges.get_data())\n",
    "\n",
    "\t\t\t\t\t\t# Add virtual edge to graph_copy\n",
    "\t\t\t\t\t\tnewVEdge = self.__new_virtual_edge(sorted_edges.get_data()[0],\n",
    "\t\t\t\t\t\t\t\t\t\t\t\t\t\t   sorted_edges.get_data()[1])\n",
    "\t\t\t\t\t\tself.graph_copy.add_edge(newVEdge)\n",
    "\n",
    "\t\t\t\t\t\t# mark unseen for newVEdge\n",
    "\t\t\t\t\t\tself.edge_status[newVEdge] = 0\n",
    "\n",
    "\t\t\t\t\t\tcomp.append(newVEdge)\n",
    "\t\t\t\t\t\tself.__new_component(comp)\n",
    "\t\t\t\t\tcomp = []\n",
    "\t\t\t\tsorted_edges = sorted_edges.next\n",
    "\t\t\tif comp:\n",
    "\t\t\t\tcomp.append(sorted_edges.get_data())\n",
    "\t\t\t\tself.graph_copy.delete_edge(sorted_edges.get_data())\n",
    "\n",
    "\t\t\t\t# Add virtual edge to graph_copy\n",
    "\t\t\t\tnewVEdge = self.__new_virtual_edge(sorted_edges.get_data()[0], sorted_edges.get_data()[1])\n",
    "\t\t\t\tself.graph_copy.add_edge(newVEdge)\n",
    "\t\t\t\tself.edge_status[newVEdge] = 0\n",
    "\n",
    "\t\t\t\tcomp.append(newVEdge)\n",
    "\t\t\t\tself.__new_component(comp)\n",
    "\n",
    "\tdef __dfs1(self, v, u=None, check=True):\n",
    "\t\t\"\"\"\n",
    "\t\tThis function builds the palm-tree of the graph using a dfs traversal.\n",
    "\n",
    "\t\tAlso populates the lists ``lowpt1``, ``lowpt2``, ``nd``, ``parent``, and\n",
    "\t\t``dfs_number``.  It updates the dict ``edge_status`` to reflect palm\n",
    "\t\ttree arcs and fronds.\n",
    "\n",
    "\t\tINPUT:\n",
    "\n",
    "\t\t- ``v`` -- The start vertex for DFS.\n",
    "\n",
    "\t\t- ``u`` -- The parent vertex of ``v`` in the palm tree.\n",
    "\n",
    "\t\t- ``check`` -- if ``True``, the graph is tested for biconnectivity. If\n",
    "\t\t  the graph has a cut vertex, the cut vertex is returned. If set to\n",
    "\t\t  ``False``, the graph is assumed to be biconnected, function returns\n",
    "\t\t  ``None``.\n",
    "\n",
    "\t\tOUTPUT:\n",
    "\n",
    "\t\t- If ``check`` is set to ``True``` and a cut vertex is found, the cut\n",
    "\t\t  vertex is returned. If no cut vertex is found, return ``None``.\n",
    "\t\t- If ``check`` is set to ``False``, ``None`` is returned.\n",
    "\t\t\"\"\"\n",
    "\t\tfirst_son = None # For testing biconnectivity\n",
    "\t\ts1 = None # Storing the cut vertex, if there is one\n",
    "\t\tself.dfs_counter += 1\n",
    "\t\tself.dfs_number[v] = self.dfs_counter\n",
    "\t\tself.parent[v] = u\n",
    "\t\tself.degree[v] = self.graph_copy.degree(v)\n",
    "\t\tself.lowpt1[v] = self.lowpt2[v] = self.dfs_number[v]\n",
    "\t\tself.nd[v] = 1\n",
    "\t\tfor e in self.graph_copy_adjacency[v]:\n",
    "\t\t\tif self.edge_status[e]:\n",
    "\t\t\t\tcontinue\n",
    "\n",
    "\t\t\tw = e[0] if e[0] != v else e[1] # Opposite vertex of edge e\n",
    "\t\t\tif self.dfs_number[w] == 0:\n",
    "\t\t\t\tself.edge_status[e] = 1 # tree edge\n",
    "\t\t\t\tif first_son is None:\n",
    "\t\t\t\t\tfirst_son = w\n",
    "\t\t\t\tself.tree_arc[w] = e\n",
    "\t\t\t\ts1 = self.__dfs1(w, v, check)\n",
    "\n",
    "\t\t\t\tif check:\n",
    "\t\t\t\t\t# Check for cut vertex.\n",
    "\t\t\t\t\t# The situation in which there is no path from w to an\n",
    "\t\t\t\t\t# ancestor of v : we have identified a cut vertex\n",
    "\t\t\t\t\tif (self.lowpt1[w] >= self.dfs_number[v]) and (w != first_son or u != None):\n",
    "\t\t\t\t\t\ts1 = v\n",
    "\n",
    "\t\t\t\t# Calculate the `lowpt1` and `lowpt2` values.\n",
    "\t\t\t\t# `lowpt1` is the smallest vertex (the vertex x with smallest\n",
    "\t\t\t\t# dfs_number[x]) that can be reached from v.\n",
    "\t\t\t\t# `lowpt2` is the next smallest vertex that can be reached from v.\n",
    "\t\t\t\tif self.lowpt1[w] < self.lowpt1[v]:\n",
    "\t\t\t\t\tself.lowpt2[v] = min(self.lowpt1[v], self.lowpt2[w])\n",
    "\t\t\t\t\tself.lowpt1[v] = self.lowpt1[w]\n",
    "\n",
    "\t\t\t\telif self.lowpt1[w] == self.lowpt1[v]:\n",
    "\t\t\t\t\tself.lowpt2[v] = min(self.lowpt2[v], self.lowpt2[w])\n",
    "\n",
    "\t\t\t\telse:\n",
    "\t\t\t\t\tself.lowpt2[v] = min(self.lowpt2[v], self.lowpt1[w])\n",
    "\n",
    "\t\t\t\tself.nd[v] += self.nd[w]\n",
    "\n",
    "\t\t\telse:\n",
    "\t\t\t\tself.edge_status[e] = 2 # frond\n",
    "\t\t\t\tif self.dfs_number[w] < self.lowpt1[v]:\n",
    "\t\t\t\t\tself.lowpt2[v] = self.lowpt1[v]\n",
    "\t\t\t\t\tself.lowpt1[v] = self.dfs_number[w]\n",
    "\t\t\t\telif self.dfs_number[w] > self.lowpt1[v]:\n",
    "\t\t\t\t\tself.lowpt2[v] = min(self.lowpt2[v], self.dfs_number[w])\n",
    "\n",
    "\t\treturn s1 # s1 is None if graph does not have a cut vertex\n",
    "\n",
    "\n",
    "\tdef __build_acceptable_adj_struct(self):\n",
    "\t\t\"\"\"\n",
    "\t\tBuilds the adjacency lists for each vertex with certain properties of\n",
    "\t\tthe ordering, using the ``lowpt1`` and ``lowpt2`` values.\n",
    "\n",
    "\t\tThe list ``adj`` and the dictionary ``in_adj`` are populated.\n",
    "\n",
    "\t\t``phi`` values of each edge are calculated using the ``lowpt`` values of\n",
    "\t\tincident vertices. The edges are then sorted by the ``phi`` values and\n",
    "\t\tadded to adjacency list.\n",
    "\t\t\"\"\"\n",
    "\t\tmax_size = 3*self.n + 2\n",
    "\t\tbucket = [[] for _ in range(max_size + 1)]\n",
    "\n",
    "\t\tfor e in self.graph_copy.edge_iterator():\n",
    "\t\t\tedge_type = self.edge_status[e]\n",
    "\n",
    "\t\t\t# compute phi value\n",
    "\t\t\t# bucket sort adjacency list by phi values\n",
    "\t\t\tif e in self.reverse_edges:\n",
    "\t\t\t\tif edge_type == 1: # tree arc\n",
    "\t\t\t\t\tif self.lowpt2[e[0]] < self.dfs_number[e[1]]:\n",
    "\t\t\t\t\t\tphi = 3*self.lowpt1[e[0]]\n",
    "\t\t\t\t\telse:\n",
    "\t\t\t\t\t\tphi = 3*self.lowpt1[e[0]] + 2\n",
    "\t\t\t\telse: # tree frond\n",
    "\t\t\t\t\tphi = 3*self.dfs_number[e[0]]+1\n",
    "\t\t\telse:\n",
    "\t\t\t\tif edge_type == 1: # tree arc\n",
    "\t\t\t\t\tif self.lowpt2[e[1]] < self.dfs_number[e[0]]:\n",
    "\t\t\t\t\t\tphi = 3*self.lowpt1[e[1]]\n",
    "\t\t\t\t\telse:\n",
    "\t\t\t\t\t\tphi = 3*self.lowpt1[e[1]] + 2\n",
    "\t\t\t\telse: # tree frond\n",
    "\t\t\t\t\tphi = 3*self.dfs_number[e[1]]+1\n",
    "\n",
    "\t\t\tbucket[phi].append(e)\n",
    "\n",
    "\t\t# Populate `adj` and `in_adj` with the sorted edges\n",
    "\t\tfor i in range(1, max_size + 1):\n",
    "\t\t\tfor e in bucket[i]:\n",
    "\t\t\t\tnode = _LinkedListNode(e)\n",
    "\t\t\t\tif e in self.reverse_edges:\n",
    "\t\t\t\t\tself.adj[e[1]].append(node)\n",
    "\t\t\t\t\tself.in_adj[e] = node\n",
    "\t\t\t\telse:\n",
    "\t\t\t\t\tself.adj[e[0]].append(node)\n",
    "\t\t\t\t\tself.in_adj[e] = node\n",
    "\n",
    "\tdef __path_finder(self, v):\n",
    "\t\t\"\"\"\n",
    "\t\tThis function is a helper function for `__dfs2` function.\n",
    "\t\tCalculate ``newnum[v]`` and identify the edges which start a new path.\n",
    "\t\t\"\"\"\n",
    "\t\tself.newnum[v] = self.dfs_counter - self.nd[v] + 1\n",
    "\t\te_node = self.adj[v].get_head()\n",
    "\t\twhile e_node:\n",
    "\t\t\te = e_node.get_data()\n",
    "\t\t\te_node = e_node.next\n",
    "\t\t\tw = e[1] if e[0] == v else e[0] # opposite vertex of e\n",
    "\t\t\tif self.new_path:\n",
    "\t\t\t\tself.new_path = False\n",
    "\t\t\t\tself.starts_path[e] = True\n",
    "\t\t\tif self.edge_status[e] == 1: # tree arc\n",
    "\t\t\t\tself.__path_finder(w)\n",
    "\t\t\t\tself.dfs_counter -= 1\n",
    "\t\t\telse:\n",
    "\t\t\t\t# Identified a new frond that enters `w`. Add to `highpt[w]`.\n",
    "\t\t\t\thighpt_node = _LinkedListNode(self.newnum[v])\n",
    "\t\t\t\tself.highpt[w].append(highpt_node)\n",
    "\t\t\t\tself.in_high[e] = highpt_node\n",
    "\t\t\t\tself.new_path = True\n",
    "\n",
    "\n",
    "\tdef __dfs2(self):\n",
    "\t\t\"\"\"\n",
    "\t\tUpdate the values of ``lowpt1`` and ``lowpt2`` lists with the help of\n",
    "\t\tnew numbering obtained from ``__path_finder`` function.\n",
    "\t\tPopulate ``highpt`` values.\n",
    "\t\t\"\"\"\n",
    "\t\tself.in_high = {e:None for e in self.graph_copy.edge_iterator()}\n",
    "\t\tself.dfs_counter = self.n\n",
    "\t\tself.newnum = [0 for i in range(self.n)]\n",
    "\t\tself.starts_path = {e:False for e in self.graph_copy.edge_iterator()}\n",
    "\n",
    "\t\tself.new_path = True\n",
    "\n",
    "\t\t# We call the pathFinder function with the start vertex\n",
    "\t\tself.__path_finder(self.start_vertex)\n",
    "\n",
    "\t\t# Update `old_to_new` values with the calculated `newnum` values\n",
    "\t\tfor v in self.graph_copy.vertex_iterator():\n",
    "\t\t\tself.old_to_new[self.dfs_number[v]] = self.newnum[v]\n",
    "\n",
    "\t\t# Update lowpt values according to `newnum` values.\n",
    "\t\tfor v in self.graph_copy.vertex_iterator():\n",
    "\t\t\tself.node_at[self.newnum[v]] = v\n",
    "\t\t\tself.lowpt1[v] = self.old_to_new[self.lowpt1[v]]\n",
    "\t\t\tself.lowpt2[v] = self.old_to_new[self.lowpt2[v]]\n",
    "\n",
    "\tdef __path_search(self, v):\n",
    "\t\t\"\"\"\n",
    "\t\tFind the separation pairs and construct the split components.\n",
    "\t\tCheck for type-1 and type-2 separation pairs, and construct the split\n",
    "\t\tcomponents while also creating new virtual edges wherever required.\n",
    "\t\t\"\"\"\n",
    "\t\ty = 0\n",
    "\t\tvnum = self.newnum[v]\n",
    "\t\toutv = self.adj[v].get_length()\n",
    "\t\te_node = self.adj[v].get_head()\n",
    "\t\twhile e_node:\n",
    "\t\t\te = e_node.get_data()\n",
    "\t\t\tit = e_node\n",
    "\n",
    "\t\t\tif e in self.reverse_edges:\n",
    "\t\t\t\tw = e[0] # target\n",
    "\t\t\telse:\n",
    "\t\t\t\tw = e[1]\n",
    "\t\t\twnum = self.newnum[w]\n",
    "\t\t\tif self.edge_status[e] == 1: # e is a tree arc\n",
    "\t\t\t\tif self.starts_path[e]: # if a new path starts at edge e\n",
    "\t\t\t\t\ty = 0\n",
    "\t\t\t\t\t# Pop all (h,a,b) from tstack where a > lowpt1[w]\n",
    "\t\t\t\t\tif self.t_stack_a[self.t_stack_top] > self.lowpt1[w]:\n",
    "\t\t\t\t\t\twhile self.t_stack_a[self.t_stack_top] > self.lowpt1[w]:\n",
    "\t\t\t\t\t\t\ty = max(y, self.t_stack_h[self.t_stack_top])\n",
    "\t\t\t\t\t\t\tb = self.t_stack_b[self.t_stack_top]\n",
    "\t\t\t\t\t\t\tself.t_stack_top -= 1\n",
    "\t\t\t\t\t\tself.__tstack_push(y, self.lowpt1[w], b)\n",
    "\n",
    "\t\t\t\t\telse:\n",
    "\t\t\t\t\t\tself.__tstack_push(wnum + self.nd[w] - 1, self.lowpt1[w], vnum)\n",
    "\t\t\t\t\tself.__tstack_push_eos()\n",
    "\n",
    "\t\t\t\tself.__path_search(w)\n",
    "\n",
    "\t\t\t\tself.e_stack.append(self.tree_arc[w])\n",
    "\t\t\t\ttemp_node = self.adj[w].get_head()\n",
    "\t\t\t\ttemp = temp_node.get_data()\n",
    "\t\t\t\tif temp in self.reverse_edges:\n",
    "\t\t\t\t\ttemp_target = temp[0]\n",
    "\t\t\t\telse:\n",
    "\t\t\t\t\ttemp_target = temp[1]\n",
    "\n",
    "\t\t\t\t# Type-2 separation pair check\n",
    "\t\t\t\t# while v is not the start_vertex\n",
    "\t\t\t\twhile vnum != 1 and ((self.t_stack_a[self.t_stack_top] == vnum) or\n",
    "\t\t\t\t\t\t\t\t\t (self.degree[w] == 2 and self.newnum[temp_target] > wnum)):\n",
    "\n",
    "\t\t\t\t\ta = self.t_stack_a[self.t_stack_top]\n",
    "\t\t\t\t\tb = self.t_stack_b[self.t_stack_top]\n",
    "\t\t\t\t\te_virt = None\n",
    "\t\t\t\t\tif a == vnum and self.parent[self.node_at[b]] == self.node_at[a]:\n",
    "\t\t\t\t\t\tself.t_stack_top -= 1\n",
    "\n",
    "\t\t\t\t\telse:\n",
    "\t\t\t\t\t\te_ab = None\n",
    "\t\t\t\t\t\tif self.degree[w] == 2 and self.newnum[temp_target] > wnum:\n",
    "\t\t\t\t\t\t\t# found type-2 separation pair - (v, temp_target)\n",
    "\t\t\t\t\t\t\tself.type2.append((v+1, temp_target+1))\n",
    "\t\t\t\t\t\t\te1 = self.__estack_pop()\n",
    "\t\t\t\t\t\t\te2 = self.__estack_pop()\n",
    "\t\t\t\t\t\t\tself.adj[w].remove(self.in_adj[e2])\n",
    "\n",
    "\t\t\t\t\t\t\tif e2 in self.reverse_edges:\n",
    "\t\t\t\t\t\t\t\tx = e2[0] # target\n",
    "\t\t\t\t\t\t\telse:\n",
    "\t\t\t\t\t\t\t\tx = e2[1] # target\n",
    "\n",
    "\t\t\t\t\t\t\te_virt = self.__new_virtual_edge(v, x)\n",
    "\t\t\t\t\t\t\tself.graph_copy.add_edge(e_virt)\n",
    "\t\t\t\t\t\t\tself.degree[v] -= 1\n",
    "\t\t\t\t\t\t\tself.degree[x] -= 1\n",
    "\n",
    "\t\t\t\t\t\t\tif e2 in self.reverse_edges:\n",
    "\t\t\t\t\t\t\t\te2_source = e2[1] # target\n",
    "\t\t\t\t\t\t\telse:\n",
    "\t\t\t\t\t\t\t\te2_source = e2[0]\n",
    "\t\t\t\t\t\t\tif e2_source != w:\n",
    "\t\t\t\t\t\t\t\traise ValueError(\"Graph is not biconnected\")\n",
    "\n",
    "\t\t\t\t\t\t\tcomp = _Component([e1, e2, e_virt], 1)\n",
    "\t\t\t\t\t\t\tself.components_list.append(comp)\n",
    "\t\t\t\t\t\t\tcomp = None\n",
    "\n",
    "\t\t\t\t\t\t\tif self.e_stack:\n",
    "\t\t\t\t\t\t\t\te1 = self.e_stack[-1]\n",
    "\t\t\t\t\t\t\t\tif e1 in self.reverse_edges:\n",
    "\t\t\t\t\t\t\t\t\tif e1[1] == x and e1[0] == v:\n",
    "\t\t\t\t\t\t\t\t\t\te_ab = self.__estack_pop()\n",
    "\t\t\t\t\t\t\t\t\t\tself.adj[x].remove(self.in_adj[e_ab])\n",
    "\t\t\t\t\t\t\t\t\t\tself.__del_high(e_ab)\n",
    "\t\t\t\t\t\t\t\telse:\n",
    "\t\t\t\t\t\t\t\t\tif e1[0] == x and e1[1] == v:\n",
    "\t\t\t\t\t\t\t\t\t\te_ab = self.__estack_pop()\n",
    "\t\t\t\t\t\t\t\t\t\tself.adj[x].remove(self.in_adj[e_ab])\n",
    "\t\t\t\t\t\t\t\t\t\tself.__del_high(e_ab)\n",
    "\n",
    "\t\t\t\t\t\telse: # found type-2 separation pair - (self.node_at[a], self.node_at[b])\n",
    "\t\t\t\t\t\t\tself.type2.append((self.node_at[a]+1, self.node_at[b]+1))\n",
    "\t\t\t\t\t\t\th = self.t_stack_h[self.t_stack_top]\n",
    "\t\t\t\t\t\t\tself.t_stack_top -= 1\n",
    "\n",
    "\t\t\t\t\t\t\tcomp = _Component([],0)\n",
    "\t\t\t\t\t\t\twhile True:\n",
    "\t\t\t\t\t\t\t\txy = self.e_stack[-1]\n",
    "\t\t\t\t\t\t\t\tif xy in self.reverse_edges:\n",
    "\t\t\t\t\t\t\t\t\tx = xy[1]\n",
    "\t\t\t\t\t\t\t\t\txy_target = xy[0]\n",
    "\t\t\t\t\t\t\t\telse:\n",
    "\t\t\t\t\t\t\t\t\tx = xy[0]\n",
    "\t\t\t\t\t\t\t\t\txy_target = xy[1]\n",
    "\t\t\t\t\t\t\t\tif not (a <= self.newnum[x] <= h and a <= self.newnum[xy_target] <= h):\n",
    "\t\t\t\t\t\t\t\t\tbreak\n",
    "\t\t\t\t\t\t\t\tif (self.newnum[x] == a and self.newnum[xy_target] == b) or (self.newnum[xy_target] == a and self.newnum[x] == b):\n",
    "\t\t\t\t\t\t\t\t\te_ab = self.__estack_pop()\n",
    "\t\t\t\t\t\t\t\t\tif e_ab in self.reverse_edges:\n",
    "\t\t\t\t\t\t\t\t\t\te_ab_source = e_ab[1] # source\n",
    "\t\t\t\t\t\t\t\t\telse:\n",
    "\t\t\t\t\t\t\t\t\t\te_ab_source = e_ab[0] # source\n",
    "\t\t\t\t\t\t\t\t\tself.adj[e_ab_source].remove(self.in_adj[e_ab])\n",
    "\t\t\t\t\t\t\t\t\tself.__del_high(e_ab)\n",
    "\n",
    "\t\t\t\t\t\t\t\telse:\n",
    "\t\t\t\t\t\t\t\t\teh = self.__estack_pop()\n",
    "\t\t\t\t\t\t\t\t\tif eh in self.reverse_edges:\n",
    "\t\t\t\t\t\t\t\t\t\teh_source = eh[1]\n",
    "\t\t\t\t\t\t\t\t\telse:\n",
    "\t\t\t\t\t\t\t\t\t\teh_source = eh[0]\n",
    "\t\t\t\t\t\t\t\t\tif it != self.in_adj[eh]:\n",
    "\t\t\t\t\t\t\t\t\t\tself.adj[eh_source].remove(self.in_adj[eh])\n",
    "\t\t\t\t\t\t\t\t\t\tself.__del_high(eh)\n",
    "\n",
    "\t\t\t\t\t\t\t\t\tcomp.add_edge(eh)\n",
    "\t\t\t\t\t\t\t\t\tself.degree[x] -= 1\n",
    "\t\t\t\t\t\t\t\t\tself.degree[xy_target] -= 1\n",
    "\n",
    "\t\t\t\t\t\t\te_virt = self.__new_virtual_edge(self.node_at[a], self.node_at[b])\n",
    "\t\t\t\t\t\t\tself.graph_copy.add_edge(e_virt)\n",
    "\t\t\t\t\t\t\tcomp.finish_tric_or_poly(e_virt)\n",
    "\t\t\t\t\t\t\tself.components_list.append(comp)\n",
    "\t\t\t\t\t\t\tcomp = None\n",
    "\t\t\t\t\t\t\tx = self.node_at[b]\n",
    "\n",
    "\t\t\t\t\t\tif e_ab is not None:\n",
    "\t\t\t\t\t\t\tcomp = _Component([e_ab, e_virt], type_c=0)\n",
    "\t\t\t\t\t\t\te_virt = self.__new_virtual_edge(v, x)\n",
    "\t\t\t\t\t\t\tself.graph_copy.add_edge(e_virt)\n",
    "\t\t\t\t\t\t\tcomp.add_edge(e_virt)\n",
    "\t\t\t\t\t\t\tself.degree[x] -= 1\n",
    "\t\t\t\t\t\t\tself.degree[v] -= 1\n",
    "\t\t\t\t\t\t\tself.components_list.append(comp)\n",
    "\t\t\t\t\t\t\tcomp = None\n",
    "\n",
    "\t\t\t\t\t\tself.e_stack.append(e_virt)\n",
    "\t\t\t\t\t\t# Replace the edge `it` with `e_virt`\n",
    "\t\t\t\t\t\tit.set_data(e_virt)\n",
    "\n",
    "\t\t\t\t\t\tself.in_adj[e_virt] = it\n",
    "\t\t\t\t\t\tself.degree[x] += 1\n",
    "\t\t\t\t\t\tself.degree[v] += 1\n",
    "\t\t\t\t\t\tself.parent[x] = v\n",
    "\t\t\t\t\t\tself.tree_arc[x] = e_virt\n",
    "\t\t\t\t\t\tself.edge_status[e_virt] = 1\n",
    "\t\t\t\t\t\tw = x\n",
    "\t\t\t\t\t\twnum = self.newnum[w]\n",
    "\n",
    "\t\t\t\t\t# update the values used in the while loop check\n",
    "\t\t\t\t\ttemp_node = self.adj[w].get_head()\n",
    "\t\t\t\t\ttemp = temp_node.get_data()\n",
    "\t\t\t\t\tif temp in self.reverse_edges:\n",
    "\t\t\t\t\t\ttemp_target = temp[0]\n",
    "\t\t\t\t\telse:\n",
    "\t\t\t\t\t\ttemp_target = temp[1]\n",
    "\n",
    "\t\t\t\t# start type-1 check\n",
    "\t\t\t\tif self.lowpt2[w] >= vnum and self.lowpt1[w] < vnum and (self.parent[v] != self.start_vertex or outv >= 2):\n",
    "\t\t\t\t\t# type-1 separation pair - (self.node_at[self.lowpt1[w]], v)\n",
    "\t\t\t\t\tself.type1.append((self.node_at[self.lowpt1[w]]+1, v+1))\n",
    "\t\t\t\t\t# Create a new component and add edges to it\n",
    "\t\t\t\t\tcomp = _Component([], 0)\n",
    "\t\t\t\t\tif not self.e_stack:\n",
    "\t\t\t\t\t\traise ValueError(\"stack is empty\")\n",
    "\t\t\t\t\twhile self.e_stack:\n",
    "\t\t\t\t\t\txy = self.e_stack[-1]\n",
    "\t\t\t\t\t\tif xy in self.reverse_edges:\n",
    "\t\t\t\t\t\t\txx = self.newnum[xy[1]] #source\n",
    "\t\t\t\t\t\t\ty = self.newnum[xy[0]] #target\n",
    "\t\t\t\t\t\telse:\n",
    "\t\t\t\t\t\t\txx = self.newnum[xy[0]] #source\n",
    "\t\t\t\t\t\t\ty = self.newnum[xy[1]] #target\n",
    "\n",
    "\t\t\t\t\t\tif not ((wnum <= xx and  xx < wnum + self.nd[w]) or\n",
    "\t\t\t\t\t\t\t\t(wnum <= y and y < wnum + self.nd[w])):\n",
    "\t\t\t\t\t\t\tbreak\n",
    "\n",
    "\t\t\t\t\t\tcomp.add_edge(self.__estack_pop())\n",
    "\t\t\t\t\t\tself.__del_high(xy)\n",
    "\t\t\t\t\t\tself.degree[self.node_at[xx]] -= 1\n",
    "\t\t\t\t\t\tself.degree[self.node_at[y]] -= 1\n",
    "\n",
    "\t\t\t\t\te_virt = self.__new_virtual_edge(v, self.node_at[self.lowpt1[w]])\n",
    "\t\t\t\t\tself.graph_copy.add_edge(e_virt) # Add virtual edge to graph\n",
    "\t\t\t\t\tcomp.finish_tric_or_poly(e_virt) # Add virtual edge to component\n",
    "\t\t\t\t\tself.components_list.append(comp)\n",
    "\t\t\t\t\tcomp = None\n",
    "\n",
    "\t\t\t\t\tif (xx == vnum and y == self.lowpt1[w]) or (y == vnum and xx == self.lowpt1[w]):\n",
    "\t\t\t\t\t\tcomp_bond = _Component([], type_c=0) # new triple bond\n",
    "\t\t\t\t\t\teh = self.__estack_pop()\n",
    "\t\t\t\t\t\tif self.in_adj[eh] != it:\n",
    "\t\t\t\t\t\t\tif eh in self.reverse_edges:\n",
    "\t\t\t\t\t\t\t\tself.adj[eh[1]].remove(self.in_adj[eh])\n",
    "\t\t\t\t\t\t\telse:\n",
    "\t\t\t\t\t\t\t\tself.adj[eh[0]].remove(self.in_adj[eh])\n",
    "\n",
    "\t\t\t\t\t\tcomp_bond.add_edge(eh)\n",
    "\t\t\t\t\t\tcomp_bond.add_edge(e_virt)\n",
    "\t\t\t\t\t\te_virt = self.__new_virtual_edge(v, self.node_at[self.lowpt1[w]])\n",
    "\t\t\t\t\t\tself.graph_copy.add_edge(e_virt)\n",
    "\t\t\t\t\t\tcomp_bond.add_edge(e_virt)\n",
    "\t\t\t\t\t\tif eh in self.in_high:\n",
    "\t\t\t\t\t\t\tself.in_high[e_virt] = self.in_high[eh]\n",
    "\t\t\t\t\t\tself.degree[v] -= 1\n",
    "\t\t\t\t\t\tself.degree[self.node_at[self.lowpt1[w]]] -= 1\n",
    "\t\t\t\t\t\tself.components_list.append(comp_bond)\n",
    "\t\t\t\t\t\tcomp_bond = None\n",
    "\n",
    "\t\t\t\t\tif self.node_at[self.lowpt1[w]] != self.parent[v]:\n",
    "\t\t\t\t\t\tself.e_stack.append(e_virt)\n",
    "\n",
    "\t\t\t\t\t\t# replace edge `it` with `e_virt`\n",
    "\t\t\t\t\t\tit.set_data(e_virt)\n",
    "\n",
    "\t\t\t\t\t\tself.in_adj[e_virt] = it\n",
    "\t\t\t\t\t\tif not e_virt in self.in_high and self.__high(self.node_at[self.lowpt1[w]]) < vnum:\n",
    "\t\t\t\t\t\t\tvnum_node = _LinkedListNode(vnum)\n",
    "\t\t\t\t\t\t\tself.highpt[self.node_at[self.lowpt1[w]]].push_front(vnum_node)\n",
    "\t\t\t\t\t\t\tself.in_high[e_virt] = vnum_node\n",
    "\n",
    "\t\t\t\t\t\tself.degree[v] += 1\n",
    "\t\t\t\t\t\tself.degree[self.node_at[self.lowpt1[w]]] += 1\n",
    "\n",
    "\t\t\t\t\telse:\n",
    "\t\t\t\t\t\tself.adj[v].remove(it)\n",
    "\t\t\t\t\t\tcomp_bond = _Component([e_virt], type_c=0)\n",
    "\t\t\t\t\t\te_virt = self.__new_virtual_edge(self.node_at[self.lowpt1[w]], v)\n",
    "\t\t\t\t\t\tself.graph_copy.add_edge(e_virt)\n",
    "\t\t\t\t\t\tcomp_bond.add_edge(e_virt)\n",
    "\n",
    "\t\t\t\t\t\teh = self.tree_arc[v];\n",
    "\t\t\t\t\t\tcomp_bond.add_edge(eh)\n",
    "\t\t\t\t\t\tself.components_list.append(comp_bond)\n",
    "\t\t\t\t\t\tcomp_bond = None\n",
    "\n",
    "\t\t\t\t\t\tself.tree_arc[v] = e_virt\n",
    "\t\t\t\t\t\tself.edge_status[e_virt] = 1\n",
    "\t\t\t\t\t\tif eh in self.in_adj:\n",
    "\t\t\t\t\t\t\tself.in_adj[e_virt] = self.in_adj[eh]\n",
    "\t\t\t\t\t\te_virt_node = _LinkedListNode(e_virt)\n",
    "\t\t\t\t\t\tself.in_adj[eh] = e_virt_node\n",
    "\t\t\t\t\t# end type-1 search\n",
    "\n",
    "\t\t\t\t# if an path starts at edge e, empty the tstack.\n",
    "\t\t\t\tif self.starts_path[e]:\n",
    "\t\t\t\t\twhile self.__tstack_not_eos():\n",
    "\t\t\t\t\t\tself.t_stack_top -= 1\n",
    "\t\t\t\t\tself.t_stack_top -= 1\n",
    "\n",
    "\t\t\t\twhile self.__tstack_not_eos() and self.t_stack_b[self.t_stack_top] != vnum and self.__high(v) > self.t_stack_h[self.t_stack_top]:\n",
    "\t\t\t\t\tself.t_stack_top -= 1\n",
    "\n",
    "\t\t\t\toutv -= 1\n",
    "\t\t\telse: # e is a frond\n",
    "\t\t\t\tif self.starts_path[e]:\n",
    "\t\t\t\t\ty = 0\n",
    "\t\t\t\t\t# pop all (h,a,b) from tstack where a > w\n",
    "\t\t\t\t\tif self.t_stack_a[self.t_stack_top] > wnum:\n",
    "\t\t\t\t\t\twhile self.t_stack_a[self.t_stack_top] > wnum:\n",
    "\t\t\t\t\t\t\ty = max(y, self.t_stack_h[self.t_stack_top])\n",
    "\t\t\t\t\t\t\tb = self.t_stack_b[self.t_stack_top]\n",
    "\t\t\t\t\t\t\tself.t_stack_top -= 1\n",
    "\t\t\t\t\t\tself.__tstack_push(y, wnum, b)\n",
    "\n",
    "\t\t\t\t\telse:\n",
    "\t\t\t\t\t\tself.__tstack_push(vnum, wnum, vnum)\n",
    "\t\t\t\tself.e_stack.append(e) # add (v,w) to ESTACK\n",
    "\t\t\t# Go to next edge in adjacency list\n",
    "\t\t\te_node = e_node.next\n",
    "\n",
    "\tdef __print_split(self):\n",
    "\t\tself.comp_list_new1 = []\n",
    "\t\tself.comp_type1 = []\n",
    "\t\tfor comp in self.components_list:\n",
    "\t\t\tif comp.edge_list.get_length() > 0:\n",
    "\t\t\t\te_list = comp.get_edge_list()\n",
    "\t\t\t\te_list_new = []\n",
    "\t\t\t\t# For each edge, get the original source, target and label\n",
    "\t\t\t\tfor u,v,l in e_list:\n",
    "\t\t\t\t\tsource = self.int_to_vertex[u]\n",
    "\t\t\t\t\ttarget = self.int_to_vertex[v]\n",
    "\t\t\t\t\tif isinstance(l, str):\n",
    "\t\t\t\t\t\tlabel = l\n",
    "\t\t\t\t\telse:\n",
    "\t\t\t\t\t\tlabel = self.int_to_original_edge_label[l]\n",
    "\t\t\t\t\te_list_new.append((source, target, label))\n",
    "\t\t\t\tself.comp_list_new1.append(e_list_new)\n",
    "\t\treturn self.comp_list_new1\n",
    "\n",
    "\tdef __assemble_triconnected_components(self):\n",
    "\t\t\"\"\"\n",
    "\t\tIterate through all the split components built by ``__path_finder`` and\n",
    "\t\tmerges two bonds or two polygons that share an edge for contructing the\n",
    "\t\tfinal triconnected components.\n",
    "\t\tSubsequently, convert the edges in triconnected components into original\n",
    "\t\tvertices and edges. The triconnected components are stored in\n",
    "\t\t`self.comp\\_list\\_new` and `self.comp\\_type`.\n",
    "\t\t\"\"\"\n",
    "\t\tcomp1 = {} # The index of first component that an edge belongs to\n",
    "\t\tcomp2 = {} # The index of second component that an edge belongs to\n",
    "\t\titem1 = {} # Pointer to the edge node in component1\n",
    "\t\titem2 = {} # Pointer to the edge node in component2\n",
    "\t\tnum_components = len(self.components_list)\n",
    "\t\tvisited = [False for i in range(num_components)]\n",
    "\n",
    "\t\t# For each edge, we populate the comp1, comp2, item1 and item2 values\n",
    "\t\tfor i in range(num_components): # for each component\n",
    "\t\t\te_node = self.components_list[i].edge_list.get_head()\n",
    "\t\t\twhile e_node: # for each edge\n",
    "\t\t\t\te = e_node.get_data()\n",
    "\t\t\t\tif e not in item1:\n",
    "\t\t\t\t\tcomp1[e] = i\n",
    "\t\t\t\t\titem1[e] = e_node\n",
    "\t\t\t\telse:\n",
    "\t\t\t\t\tcomp2[e] = i\n",
    "\t\t\t\t\titem2[e] = e_node\n",
    "\n",
    "\t\t\t\te_node = e_node.next\n",
    "\n",
    "\t\t# For each edge in a component, if the edge is a virtual edge, merge\n",
    "\t\t# the two components the edge belongs to\n",
    "\t\tfor i in range(num_components):\n",
    "\t\t\tc1 = self.components_list[i]\n",
    "\t\t\tc1_type = c1.component_type\n",
    "\t\t\tl1 = c1.edge_list\n",
    "\t\t\tvisited[i] = True\n",
    "\n",
    "\t\t\tif l1.get_length() == 0:\n",
    "\t\t\t\tcontinue\n",
    "\n",
    "\t\t\tif c1_type == 0 or c1_type == 1:\n",
    "\t\t\t\te_node = self.components_list[i].edge_list.get_head()\n",
    "\t\t\t\t# Iterate through each edge in the component\n",
    "\t\t\t\twhile e_node:\n",
    "\t\t\t\t\te = e_node.get_data()\n",
    "\t\t\t\t\te_node_next = e_node.next\n",
    "\t\t\t\t\t# The label of a virtual edge is a string\n",
    "\t\t\t\t\tif not isinstance(e[2], str):\n",
    "\t\t\t\t\t\te_node = e_node_next\n",
    "\t\t\t\t\t\tcontinue\n",
    "\n",
    "\t\t\t\t\tj = comp1[e]\n",
    "\t\t\t\t\tif visited[j]:\n",
    "\t\t\t\t\t\tj = comp2[e]\n",
    "\t\t\t\t\t\tif visited[j]:\n",
    "\t\t\t\t\t\t\te_node = e_node_next\n",
    "\t\t\t\t\t\t\tcontinue\n",
    "\t\t\t\t\t\te_node2 = item2[e]\n",
    "\t\t\t\t\telse:\n",
    "\t\t\t\t\t\te_node2 = item1[e]\n",
    "\n",
    "\t\t\t\t\tc2 = self.components_list[j]\n",
    "\n",
    "\t\t\t\t\t# If the two components are not the same type, do not merge\n",
    "\t\t\t\t\tif (c1_type != c2.component_type):\n",
    "\t\t\t\t\t\te_node = e_node_next # Go to next edge\n",
    "\t\t\t\t\t\tcontinue\n",
    "\n",
    "\t\t\t\t\tvisited[j] = True\n",
    "\t\t\t\t\tl2 = c2.edge_list\n",
    "\n",
    "\t\t\t\t\t# Remove the corresponding virtual edges in both the components\n",
    "\t\t\t\t\t# and merge the components\n",
    "\t\t\t\t\tl2.remove(e_node2)\n",
    "\t\t\t\t\tl1.concatenate(l2)\n",
    "\n",
    "\t\t\t\t\t# if `e_node_next` was empty, after merging two components,\n",
    "\t\t\t\t\t# more edges are added to the component.\n",
    "\t\t\t\t\tif not e_node_next:\n",
    "\t\t\t\t\t\te_node_next = e_node.next # Go to next edge\n",
    "\n",
    "\t\t\t\t\tl1.remove(e_node)\n",
    "\n",
    "\t\t\t\t\te_node = e_node_next\n",
    "\n",
    "\t\t# Convert connected components into original graph vertices and edges\n",
    "\t\tself.comp_list_new = []\n",
    "\t\tself.comp_type = []\n",
    "\t\tfor comp in self.components_list:\n",
    "\t\t\tif comp.edge_list.get_length() > 0:\n",
    "\t\t\t\te_list = comp.get_edge_list()\n",
    "\t\t\t\te_list_new = []\n",
    "\t\t\t\t# For each edge, get the original source, target and label\n",
    "\t\t\t\tfor u,v,l in e_list:\n",
    "\t\t\t\t\tsource = self.int_to_vertex[u]\n",
    "\t\t\t\t\ttarget = self.int_to_vertex[v]\n",
    "\t\t\t\t\tif isinstance(l, str):\n",
    "\t\t\t\t\t\tlabel = l\n",
    "\t\t\t\t\telse:\n",
    "\t\t\t\t\t\tlabel = self.int_to_original_edge_label[l]\n",
    "\t\t\t\t\te_list_new.append((source, target, label))\n",
    "\t\t\t\t# Add the component data to `comp_list_new` and `comp_type`\n",
    "\t\t\t\tself.comp_type.append(comp.component_type)\n",
    "\t\t\t\tself.comp_list_new.append(e_list_new)\n",
    "\t#print(self.comp_list_new)\n",
    "\n",
    "\tdef __build_spqr_tree(self):\n",
    "\t\t\"\"\"\n",
    "\t\tBuild the SPQR-tree of the graph and store it in variable\n",
    "\t\t``self.spqr_tree``. See :meth:`~TriconnectivitySPQR.get_spqr_tree`.\n",
    "\t\t\"\"\"\n",
    "\t\t# Types of components 0: \"P\", 1: \"S\", 2: \"R\"\n",
    "\t\tcomponent_type = [\"P\", \"S\", \"R\"]\n",
    "\n",
    "\t\tself.spqr_tree = Graph(multiedges=False, name='SPQR-tree of {}'.format(self.graph_name))\n",
    "\n",
    "\t\tif len(self.comp_list_new) == 1 and self.comp_type[0] == 0:\n",
    "\t\t\tself.spqr_tree.add_vertex(('Q' if len(self.comp_list_new[0]) == 1 else 'P',\n",
    "\t\t\t\t\t\t\t\t\t   Graph(self.comp_list_new[0], immutable=True, multiedges=True)))\n",
    "\t\t\treturn\n",
    "\n",
    "\t\tint_to_vertex = []\n",
    "\t\tpartner_nodes = {}\n",
    "\n",
    "\t\tfor i in range(len(self.comp_list_new)):\n",
    "\t\t\t# Create a new tree vertex\n",
    "\t\t\tu = (component_type[self.comp_type[i]],\n",
    "\t\t\t\t Graph(self.comp_list_new[i], immutable=True, multiedges=True))\n",
    "\t\t\tself.spqr_tree.add_vertex(u)\n",
    "\t\t\tint_to_vertex.append(u)\n",
    "\n",
    "\t\t\t# Add an edge to each node containing the same virtual edge\n",
    "\t\t\tfor e in self.comp_list_new[i]:\n",
    "\t\t\t\tif e in self.virtual_edges:\n",
    "\t\t\t\t\tif e in partner_nodes:\n",
    "\t\t\t\t\t\tfor j in partner_nodes[e]:\n",
    "\t\t\t\t\t\t\tself.spqr_tree.add_edge(int_to_vertex[i], int_to_vertex[j])\n",
    "\t\t\t\t\t\tpartner_nodes[e].append(i)\n",
    "\t\t\t\t\telse:\n",
    "\t\t\t\t\t\tpartner_nodes[e] = [i]"
   ],
   "metadata": {
    "collapsed": false,
    "pycharm": {
     "name": "#%%\n"
    }
   }
  },
  {
   "cell_type": "markdown",
   "source": [],
   "metadata": {
    "collapsed": false,
    "pycharm": {
     "name": "#%% md\n"
    }
   }
  },
  {
   "cell_type": "code",
   "execution_count": null,
   "outputs": [],
   "source": [
    "G1 = {\n",
    "\t1:[2, 4, 8, 12, 13],\n",
    "\t2:[1, 3, 13],\n",
    "\t3:[2, 4, 13],\n",
    "\t4:[1, 3, 5, 6, 7],\n",
    "\t5:[4, 6, 7, 8],\n",
    "\t6:[4, 5, 7],\n",
    "\t7:[4, 5, 6],\n",
    "\t8:[1, 5, 9, 11, 12],\n",
    "\t9:[8, 10, 11, 12],\n",
    "\t10:[9, 11, 12],\n",
    "\t11:[8, 9, 10],\n",
    "\t12:[1, 8, 9, 10],\n",
    "\t13:[1, 2, 3]\n",
    "\t}\n",
    "\n",
    "G = Graph([(1, 2), (1, 4), (1, 8), (1, 12), (1, 13), (2, 3), (2, 13), (3, 4), (3, 13), (4, 5), (4, 6),(4, 7), (5, 6), (5, 7), (5, 8),(6, 7), (8, 9), (8, 11), (8, 12), (9, 10), (9, 11), (9, 12),(10, 11), (10, 12)])\n",
    "G.show()"
   ],
   "metadata": {
    "collapsed": false,
    "pycharm": {
     "name": "#%%\n"
    }
   }
  },
  {
   "cell_type": "code",
   "execution_count": null,
   "outputs": [],
   "source": [
    "print(G1)"
   ],
   "metadata": {
    "collapsed": false,
    "pycharm": {
     "name": "#%%\n"
    }
   }
  },
  {
   "cell_type": "code",
   "execution_count": null,
   "outputs": [],
   "source": [
    "d = nx.Graph(G1)\n",
    "nx.draw(d, with_labels=True)\n",
    "plt.savefig('plotgraph.png', dpi=300, bbox_inches='tight')\n",
    "plt.show()"
   ],
   "metadata": {
    "collapsed": false,
    "pycharm": {
     "name": "#%%\n"
    }
   }
  },
  {
   "cell_type": "code",
   "execution_count": null,
   "outputs": [],
   "source": [
    "grafo = recorridoDepth(G1, 1)\n",
    "Spanning_Tree, Bactracking_Tree  = grafo.dFS()\n",
    "print(\"Spanning Tree edges\", Spanning_Tree)\n",
    "#print(\"Bactracking Tree edges\", Bactracking_Tree)"
   ],
   "metadata": {
    "collapsed": false,
    "pycharm": {
     "name": "#%%\n"
    }
   }
  },
  {
   "cell_type": "code",
   "execution_count": null,
   "outputs": [],
   "source": [
    "df = grafo.low1_low2()\n",
    "df"
   ],
   "metadata": {
    "collapsed": false,
    "pycharm": {
     "name": "#%%\n"
    }
   }
  },
  {
   "cell_type": "code",
   "execution_count": null,
   "outputs": [],
   "source": [
    "print(df.to_latex(index=False))"
   ],
   "metadata": {
    "collapsed": false,
    "pycharm": {
     "name": "#%%\n"
    }
   }
  },
  {
   "cell_type": "code",
   "execution_count": null,
   "outputs": [],
   "source": [
    "aux = auxTricconected(G1, 1)"
   ],
   "metadata": {
    "collapsed": false,
    "pycharm": {
     "name": "#%%\n"
    }
   }
  },
  {
   "cell_type": "code",
   "execution_count": null,
   "outputs": [],
   "source": [
    "aux.etiquetado()"
   ],
   "metadata": {
    "collapsed": false,
    "pycharm": {
     "name": "#%%\n"
    }
   }
  },
  {
   "cell_type": "code",
   "execution_count": null,
   "outputs": [],
   "source": [
    "aristas_ordenadas = aux.ordenado()\n",
    "print(aristas_ordenadas)"
   ],
   "metadata": {
    "collapsed": false,
    "pycharm": {
     "name": "#%%\n"
    }
   }
  },
  {
   "cell_type": "code",
   "execution_count": null,
   "outputs": [],
   "source": [
    "aux.ordenamientoDic()"
   ],
   "metadata": {
    "collapsed": false,
    "pycharm": {
     "name": "#%%\n"
    }
   }
  },
  {
   "cell_type": "code",
   "execution_count": null,
   "outputs": [],
   "source": [
    "p = aux.pathfinder(1)\n",
    "print(p)"
   ],
   "metadata": {
    "collapsed": false,
    "pycharm": {
     "name": "#%%\n"
    }
   }
  },
  {
   "cell_type": "code",
   "execution_count": null,
   "outputs": [],
   "source": [
    "grafo.dibujar_grafo_recorrido('G2.png')"
   ],
   "metadata": {
    "collapsed": false,
    "pycharm": {
     "name": "#%%\n"
    }
   }
  },
  {
   "cell_type": "code",
   "execution_count": null,
   "outputs": [],
   "source": [],
   "metadata": {
    "collapsed": false,
    "pycharm": {
     "name": "#%%\n"
    }
   }
  },
  {
   "cell_type": "code",
   "execution_count": null,
   "outputs": [],
   "source": [
    "G = Graph(G1)"
   ],
   "metadata": {
    "collapsed": false,
    "pycharm": {
     "name": "#%%\n"
    }
   }
  },
  {
   "cell_type": "code",
   "execution_count": null,
   "outputs": [],
   "source": [
    "for u, v, l in G.edges():\n",
    "\tG.set_edge_label(u, v, f'({u},{v})')"
   ],
   "metadata": {
    "collapsed": false,
    "pycharm": {
     "name": "#%%\n"
    }
   }
  },
  {
   "cell_type": "code",
   "execution_count": null,
   "outputs": [],
   "source": [
    "tric1 = TriconnectivitySPQR_Aux(G)"
   ],
   "metadata": {
    "collapsed": false,
    "pycharm": {
     "name": "#%%\n"
    }
   }
  },
  {
   "cell_type": "code",
   "execution_count": null,
   "outputs": [],
   "source": [
    "print(tric1.comp_list_new1)"
   ],
   "metadata": {
    "collapsed": false,
    "pycharm": {
     "name": "#%%\n"
    }
   }
  },
  {
   "cell_type": "code",
   "execution_count": null,
   "outputs": [],
   "source": [
    "tric1.type1"
   ],
   "metadata": {
    "collapsed": false,
    "pycharm": {
     "name": "#%%\n"
    }
   }
  },
  {
   "cell_type": "code",
   "execution_count": null,
   "outputs": [],
   "source": [
    "tric1.type2"
   ],
   "metadata": {
    "collapsed": false,
    "pycharm": {
     "name": "#%%\n"
    }
   }
  },
  {
   "cell_type": "code",
   "execution_count": null,
   "outputs": [],
   "source": [
    "for componente in tric1.comp_list_new1:\n",
    "\tgrafo = Graph(componente)\n",
    "\tgrafo.graphplot(edge_labels=True).show()\n",
    "\topts = grafo.latex_options()\n",
    "\tgrafo.set_latex_options(tkz_style='Normal')\n",
    "\tcheck_tkz_graph()\n",
    "\tprint(opts.tkz_picture())\n",
    "\t#print(latex(grafo))"
   ],
   "metadata": {
    "collapsed": false,
    "pycharm": {
     "name": "#%%\n"
    }
   }
  },
  {
   "cell_type": "code",
   "execution_count": null,
   "outputs": [],
   "source": [],
   "metadata": {
    "collapsed": false,
    "pycharm": {
     "name": "#%%\n"
    }
   }
  },
  {
   "cell_type": "code",
   "execution_count": null,
   "outputs": [],
   "source": [
    "tric = TriconnectivitySPQR(G)\n",
    "T = tric.get_spqr_tree()\n",
    "G.is_isomorphic(spqr_tree_to_graph(T))"
   ],
   "metadata": {
    "collapsed": false,
    "pycharm": {
     "name": "#%%\n"
    }
   }
  },
  {
   "cell_type": "code",
   "execution_count": null,
   "outputs": [],
   "source": [
    "tric.print_triconnected_components()"
   ],
   "metadata": {
    "collapsed": false,
    "pycharm": {
     "name": "#%%\n"
    }
   }
  },
  {
   "cell_type": "code",
   "execution_count": null,
   "outputs": [],
   "source": [
    "tric.get_triconnected_components()"
   ],
   "metadata": {
    "collapsed": false,
    "pycharm": {
     "name": "#%%\n"
    }
   }
  },
  {
   "cell_type": "code",
   "execution_count": null,
   "outputs": [],
   "source": [
    "componentes = tric.get_triconnected_components()"
   ],
   "metadata": {
    "collapsed": false,
    "pycharm": {
     "name": "#%%\n"
    }
   }
  },
  {
   "cell_type": "code",
   "execution_count": null,
   "outputs": [],
   "source": [
    "opts = G.latex_options()\n",
    "G.set_latex_options(tkz_style='Art')"
   ],
   "metadata": {
    "collapsed": false,
    "pycharm": {
     "name": "#%%\n"
    }
   }
  },
  {
   "cell_type": "code",
   "execution_count": null,
   "outputs": [],
   "source": [
    "for componente in componentes:\n",
    "\tgrafo = Graph(componente[1])\n",
    "\tgrafo.graphplot(edge_labels=True).show()\n",
    "\topts = grafo.latex_options()\n",
    "\tgrafo.set_latex_options(tkz_style='Normal')\n",
    "\tcheck_tkz_graph()\n",
    "\tprint(opts.tkz_picture())\n",
    "\t#print(latex(grafo))"
   ],
   "metadata": {
    "collapsed": false,
    "pycharm": {
     "name": "#%%\n"
    }
   }
  },
  {
   "cell_type": "code",
   "execution_count": null,
   "outputs": [],
   "source": [],
   "metadata": {
    "collapsed": false,
    "pycharm": {
     "name": "#%%\n"
    }
   }
  },
  {
   "cell_type": "code",
   "execution_count": null,
   "outputs": [],
   "source": [
    "G2 = {\n",
    "\t1:[2, 4],\n",
    "\t2:[1, 3, 5, 6],\n",
    "\t3:[2, 4, 5, 6, 7],\n",
    "\t4:[1, 3, 7],\n",
    "\t5:[2, 3, 6],\n",
    "\t6:[2, 3, 5],\n",
    "\t7:[3, 4],\n",
    "}"
   ],
   "metadata": {
    "collapsed": false,
    "pycharm": {
     "name": "#%%\n"
    }
   }
  },
  {
   "cell_type": "code",
   "execution_count": null,
   "outputs": [],
   "source": [
    "print(G2)"
   ],
   "metadata": {
    "collapsed": false,
    "pycharm": {
     "name": "#%%\n"
    }
   }
  },
  {
   "cell_type": "code",
   "execution_count": null,
   "outputs": [],
   "source": [
    "d = nx.Graph(G2)\n",
    "nx.draw(d, with_labels=True)\n",
    "plt.savefig('plotgraph1.png', dpi=300, bbox_inches='tight')\n",
    "plt.show()"
   ],
   "metadata": {
    "collapsed": false,
    "pycharm": {
     "name": "#%%\n"
    }
   }
  },
  {
   "cell_type": "code",
   "execution_count": null,
   "outputs": [],
   "source": [
    "grafo = recorridoDepth(G2, 1)\n",
    "Spanning_Tree, Bactracking_Tree = grafo.dFS()\n",
    "print(\"Spanning Tree edges\", Spanning_Tree)\n",
    "#print(\"Bactracking Tree edges\", Bactracking_Tree)"
   ],
   "metadata": {
    "collapsed": false,
    "pycharm": {
     "name": "#%%\n"
    }
   }
  },
  {
   "cell_type": "code",
   "execution_count": null,
   "outputs": [],
   "source": [
    "df = grafo.low1_low2()\n",
    "df"
   ],
   "metadata": {
    "collapsed": false,
    "pycharm": {
     "name": "#%%\n"
    }
   }
  },
  {
   "cell_type": "code",
   "execution_count": null,
   "outputs": [],
   "source": [
    "#print(df.to_latex(index=False))"
   ],
   "metadata": {
    "collapsed": false,
    "pycharm": {
     "name": "#%%\n"
    }
   }
  },
  {
   "cell_type": "code",
   "execution_count": null,
   "outputs": [],
   "source": [
    "aux = auxTricconected(G2, 1)\n",
    "aux.etiquetado()"
   ],
   "metadata": {
    "collapsed": false,
    "pycharm": {
     "name": "#%%\n"
    }
   }
  },
  {
   "cell_type": "code",
   "execution_count": null,
   "outputs": [],
   "source": [
    "aristas_ordenadas = aux.ordenado()\n",
    "print(aristas_ordenadas)"
   ],
   "metadata": {
    "collapsed": false,
    "pycharm": {
     "name": "#%%\n"
    }
   }
  },
  {
   "cell_type": "code",
   "execution_count": null,
   "outputs": [],
   "source": [
    "aux.pathfinder(1)"
   ],
   "metadata": {
    "collapsed": false,
    "pycharm": {
     "name": "#%%\n"
    }
   }
  },
  {
   "cell_type": "code",
   "execution_count": null,
   "outputs": [],
   "source": [
    "grafo.dibujar_grafo_recorrido('G3.png')"
   ],
   "metadata": {
    "collapsed": false,
    "pycharm": {
     "name": "#%%\n"
    }
   }
  },
  {
   "cell_type": "code",
   "execution_count": null,
   "outputs": [],
   "source": [],
   "metadata": {
    "collapsed": false,
    "pycharm": {
     "name": "#%%\n"
    }
   }
  },
  {
   "cell_type": "code",
   "execution_count": null,
   "outputs": [],
   "source": [
    "G12 = Graph(G2)"
   ],
   "metadata": {
    "collapsed": false,
    "pycharm": {
     "name": "#%%\n"
    }
   }
  },
  {
   "cell_type": "code",
   "execution_count": null,
   "outputs": [],
   "source": [
    "for u, v, l in G12.edges():\n",
    "\tG12.set_edge_label(u, v, f'({u},{v})')"
   ],
   "metadata": {
    "collapsed": false,
    "pycharm": {
     "name": "#%%\n"
    }
   }
  },
  {
   "cell_type": "code",
   "execution_count": null,
   "outputs": [],
   "source": [
    "tric12 = TriconnectivitySPQR_Aux(G12)\n",
    "print(tric12.comp_list_new1)"
   ],
   "metadata": {
    "collapsed": false,
    "pycharm": {
     "name": "#%%\n"
    }
   }
  },
  {
   "cell_type": "code",
   "execution_count": null,
   "outputs": [],
   "source": [
    "tric12.type2"
   ],
   "metadata": {
    "collapsed": false,
    "pycharm": {
     "name": "#%%\n"
    }
   }
  },
  {
   "cell_type": "code",
   "execution_count": null,
   "outputs": [],
   "source": [
    "tric12.type1"
   ],
   "metadata": {
    "collapsed": false,
    "pycharm": {
     "name": "#%%\n"
    }
   }
  },
  {
   "cell_type": "code",
   "execution_count": null,
   "outputs": [],
   "source": [
    "for componente in tric12.comp_list_new1:\n",
    "\tgrafo = Graph(componente)\n",
    "\tgrafo.graphplot(edge_labels=True).show()\n",
    "\topts = grafo.latex_options()\n",
    "\tgrafo.set_latex_options(tkz_style='Normal')\n",
    "\tcheck_tkz_graph()\n",
    "\tprint(opts.tkz_picture())\n",
    "\t#check_tkz_graph()\n",
    "\t#print(latex(grafo))"
   ],
   "metadata": {
    "collapsed": false,
    "pycharm": {
     "name": "#%%\n"
    }
   }
  },
  {
   "cell_type": "code",
   "execution_count": null,
   "outputs": [],
   "source": [],
   "metadata": {
    "collapsed": false,
    "pycharm": {
     "name": "#%%\n"
    }
   }
  },
  {
   "cell_type": "code",
   "execution_count": null,
   "outputs": [],
   "source": [
    "tric = TriconnectivitySPQR(G12)\n",
    "T = tric.get_spqr_tree()\n",
    "G12.is_isomorphic(spqr_tree_to_graph(T))"
   ],
   "metadata": {
    "collapsed": false,
    "pycharm": {
     "name": "#%%\n"
    }
   }
  },
  {
   "cell_type": "code",
   "execution_count": null,
   "outputs": [],
   "source": [
    "tric.print_triconnected_components()"
   ],
   "metadata": {
    "collapsed": false,
    "pycharm": {
     "name": "#%%\n"
    }
   }
  },
  {
   "cell_type": "code",
   "execution_count": null,
   "outputs": [],
   "source": [
    "tric.get_triconnected_components()"
   ],
   "metadata": {
    "collapsed": false,
    "pycharm": {
     "name": "#%%\n"
    }
   }
  },
  {
   "cell_type": "code",
   "execution_count": null,
   "outputs": [],
   "source": [
    "componentes = tric.get_triconnected_components()"
   ],
   "metadata": {
    "collapsed": false,
    "pycharm": {
     "name": "#%%\n"
    }
   }
  },
  {
   "cell_type": "code",
   "execution_count": null,
   "outputs": [],
   "source": [
    "for componente in componentes:\n",
    "\tgrafo = Graph(componente[1])\n",
    "\tgrafo.graphplot(edge_labels=True).show()\n",
    "\topts = grafo.latex_options()\n",
    "\tgrafo.set_latex_options(tkz_style='Normal')\n",
    "\tcheck_tkz_graph()\n",
    "\tprint(opts.tkz_picture())\n",
    "\t#check_tkz_graph()\n",
    "\t#print(latex(grafo))"
   ],
   "metadata": {
    "collapsed": false,
    "pycharm": {
     "name": "#%%\n"
    }
   }
  },
  {
   "cell_type": "code",
   "execution_count": null,
   "outputs": [],
   "source": [
    "G3 = {\n",
    "\t1: [2, 3, 4],\n",
    "\t2: [1, 3, 4],\n",
    "\t3: [1, 2, 5, 6],\n",
    "\t4: [1, 2, 5, 6],\n",
    "\t5: [3, 4, 6],\n",
    "\t6: [3, 4, 5]\n",
    "}\n",
    "print(G3)"
   ],
   "metadata": {
    "collapsed": false,
    "pycharm": {
     "name": "#%%\n"
    }
   }
  },
  {
   "cell_type": "code",
   "execution_count": null,
   "outputs": [],
   "source": [
    "d = nx.Graph(G3)\n",
    "nx.draw(d, with_labels=True)\n",
    "plt.savefig('plotgraph2.png', dpi=300, bbox_inches='tight')\n",
    "plt.show()"
   ],
   "metadata": {
    "collapsed": false,
    "pycharm": {
     "name": "#%%\n"
    }
   }
  },
  {
   "cell_type": "code",
   "execution_count": null,
   "outputs": [],
   "source": [
    "grafo = recorridoDepth(G3, 1)\n",
    "Spanning_Tree, Bactracking_Tree = grafo.dFS()\n",
    "print(\"Spanning Tree edges\", Spanning_Tree)\n",
    "#print(\"Bactracking Tree edges\", Bactracking_Tree)"
   ],
   "metadata": {
    "collapsed": false,
    "pycharm": {
     "name": "#%%\n"
    }
   }
  },
  {
   "cell_type": "code",
   "execution_count": 15,
   "outputs": [
    {
     "ename": "NameError",
     "evalue": "name 'grafo' is not defined",
     "output_type": "error",
     "traceback": [
      "\u001B[0;31m---------------------------------------------------------------------------\u001B[0m",
      "\u001B[0;31mNameError\u001B[0m                                 Traceback (most recent call last)",
      "\u001B[0;32m/tmp/ipykernel_15904/1792570172.py\u001B[0m in \u001B[0;36m<module>\u001B[0;34m\u001B[0m\n\u001B[0;32m----> 1\u001B[0;31m \u001B[0mdf\u001B[0m \u001B[0;34m=\u001B[0m \u001B[0mgrafo\u001B[0m\u001B[0;34m.\u001B[0m\u001B[0mlow1_low2\u001B[0m\u001B[0;34m(\u001B[0m\u001B[0;34m)\u001B[0m\u001B[0;34m\u001B[0m\u001B[0;34m\u001B[0m\u001B[0m\n\u001B[0m\u001B[1;32m      2\u001B[0m \u001B[0mdf\u001B[0m\u001B[0;34m\u001B[0m\u001B[0;34m\u001B[0m\u001B[0m\n",
      "\u001B[0;31mNameError\u001B[0m: name 'grafo' is not defined"
     ]
    }
   ],
   "source": [
    "df = grafo.low1_low2()\n",
    "df"
   ],
   "metadata": {
    "collapsed": false,
    "pycharm": {
     "name": "#%%\n"
    }
   }
  },
  {
   "cell_type": "code",
   "execution_count": null,
   "outputs": [],
   "source": [
    "#print(df.to_latex(index=False))"
   ],
   "metadata": {
    "collapsed": false,
    "pycharm": {
     "name": "#%%\n"
    }
   }
  },
  {
   "cell_type": "code",
   "execution_count": null,
   "outputs": [],
   "source": [
    "aux = auxTricconected(G3, 1)\n",
    "aux.etiquetado()"
   ],
   "metadata": {
    "collapsed": false,
    "pycharm": {
     "name": "#%%\n"
    }
   }
  },
  {
   "cell_type": "code",
   "execution_count": null,
   "outputs": [],
   "source": [
    "aristas_ordenadas = aux.ordenado()\n",
    "print(aristas_ordenadas)"
   ],
   "metadata": {
    "collapsed": false,
    "pycharm": {
     "name": "#%%\n"
    }
   }
  },
  {
   "cell_type": "code",
   "execution_count": null,
   "outputs": [],
   "source": [
    "aux.pathfinder(1)"
   ],
   "metadata": {
    "collapsed": false,
    "pycharm": {
     "name": "#%%\n"
    }
   }
  },
  {
   "cell_type": "code",
   "execution_count": null,
   "outputs": [],
   "source": [
    "grafo.dibujar_grafo_recorrido('G4.png')"
   ],
   "metadata": {
    "collapsed": false,
    "pycharm": {
     "name": "#%%\n"
    }
   }
  },
  {
   "cell_type": "code",
   "execution_count": null,
   "outputs": [],
   "source": [],
   "metadata": {
    "collapsed": false,
    "pycharm": {
     "name": "#%%\n"
    }
   }
  },
  {
   "cell_type": "code",
   "execution_count": null,
   "outputs": [],
   "source": [
    "G22 = Graph(G3)"
   ],
   "metadata": {
    "collapsed": false,
    "pycharm": {
     "name": "#%%\n"
    }
   }
  },
  {
   "cell_type": "code",
   "execution_count": null,
   "outputs": [],
   "source": [
    "for u, v, l in G22.edges():\n",
    "\tG22.set_edge_label(u, v, f'({u},{v})')"
   ],
   "metadata": {
    "collapsed": false,
    "pycharm": {
     "name": "#%%\n"
    }
   }
  },
  {
   "cell_type": "code",
   "execution_count": null,
   "outputs": [],
   "source": [
    "tric22 = TriconnectivitySPQR_Aux(G22)\n",
    "print(len(tric22.comp_list_new1))\n",
    "print(tric22.comp_list_new1)"
   ],
   "metadata": {
    "collapsed": false,
    "pycharm": {
     "name": "#%%\n"
    }
   }
  },
  {
   "cell_type": "code",
   "execution_count": null,
   "outputs": [],
   "source": [
    "tric22.type1"
   ],
   "metadata": {
    "collapsed": false,
    "pycharm": {
     "name": "#%%\n"
    }
   }
  },
  {
   "cell_type": "code",
   "execution_count": null,
   "outputs": [],
   "source": [
    "tric22.type2"
   ],
   "metadata": {
    "collapsed": false,
    "pycharm": {
     "name": "#%%\n"
    }
   }
  },
  {
   "cell_type": "code",
   "execution_count": null,
   "outputs": [],
   "source": [
    "for componente in tric22.comp_list_new1:\n",
    "\tgrafo = Graph(componente)\n",
    "\tgrafo.graphplot(edge_labels=True).show()\n",
    "\topts = grafo.latex_options()\n",
    "\tgrafo.set_latex_options(tkz_style='Normal')\n",
    "\tcheck_tkz_graph()\n",
    "\tprint(opts.tkz_picture())\n",
    "#check_tkz_graph()\n",
    "#print(latex(grafo))"
   ],
   "metadata": {
    "collapsed": false,
    "pycharm": {
     "name": "#%%\n"
    }
   }
  },
  {
   "cell_type": "code",
   "execution_count": null,
   "outputs": [],
   "source": [],
   "metadata": {
    "collapsed": false,
    "pycharm": {
     "name": "#%%\n"
    }
   }
  },
  {
   "cell_type": "code",
   "execution_count": null,
   "outputs": [],
   "source": [
    "tric = TriconnectivitySPQR(G22)\n",
    "T = tric.get_spqr_tree()\n",
    "G22.is_isomorphic(spqr_tree_to_graph(T))"
   ],
   "metadata": {
    "collapsed": false,
    "pycharm": {
     "name": "#%%\n"
    }
   }
  },
  {
   "cell_type": "code",
   "execution_count": null,
   "outputs": [],
   "source": [
    "tric.print_triconnected_components()"
   ],
   "metadata": {
    "collapsed": false,
    "pycharm": {
     "name": "#%%\n"
    }
   }
  },
  {
   "cell_type": "code",
   "execution_count": null,
   "outputs": [],
   "source": [
    "tric.get_triconnected_components()"
   ],
   "metadata": {
    "collapsed": false,
    "pycharm": {
     "name": "#%%\n"
    }
   }
  },
  {
   "cell_type": "code",
   "execution_count": null,
   "outputs": [],
   "source": [
    "componentes = tric.get_triconnected_components()"
   ],
   "metadata": {
    "collapsed": false,
    "pycharm": {
     "name": "#%%\n"
    }
   }
  },
  {
   "cell_type": "code",
   "execution_count": null,
   "outputs": [],
   "source": [
    "for componente in componentes:\n",
    "\tgrafo = Graph(componente[1])\n",
    "\tgrafo.graphplot(edge_labels=True).show()\n",
    "\topts = grafo.latex_options()\n",
    "\tgrafo.set_latex_options(tkz_style='Normal')\n",
    "\tcheck_tkz_graph()\n",
    "\tprint(opts.tkz_picture())\n",
    "\t#check_tkz_graph()\n",
    "\t#print(latex(grafo))"
   ],
   "metadata": {
    "collapsed": false,
    "pycharm": {
     "name": "#%%\n"
    }
   }
  },
  {
   "cell_type": "code",
   "execution_count": null,
   "outputs": [],
   "source": [],
   "metadata": {
    "collapsed": false,
    "pycharm": {
     "name": "#%%\n"
    }
   }
  },
  {
   "cell_type": "code",
   "execution_count": null,
   "outputs": [],
   "source": [
    "G4 = {\n",
    "\t1: [3, 4, 5],\n",
    "\t2: [3, 4, 5],\n",
    "\t3: [1, 2],\n",
    "\t4: [1, 2, 5],\n",
    "\t5: [2, 1, 4]\n",
    "}\n",
    "print(G4)"
   ],
   "metadata": {
    "collapsed": false,
    "pycharm": {
     "name": "#%%\n"
    }
   }
  },
  {
   "cell_type": "code",
   "execution_count": null,
   "outputs": [],
   "source": [
    "d = nx.Graph(G4)\n",
    "nx.draw(d, with_labels=True)\n",
    "plt.savefig('plotgraph3.png', dpi=300, bbox_inches='tight')\n",
    "plt.show()"
   ],
   "metadata": {
    "collapsed": false,
    "pycharm": {
     "name": "#%%\n"
    }
   }
  },
  {
   "cell_type": "code",
   "execution_count": null,
   "outputs": [],
   "source": [
    "grafo = recorridoDepth(G4, 1)\n",
    "Spanning_Tree, Bactracking_Tree = grafo.dFS()\n",
    "print(\"Spanning Tree edges\", Spanning_Tree)\n",
    "#print(\"Bactracking Tree edges\", Bactracking_Tree)"
   ],
   "metadata": {
    "collapsed": false,
    "pycharm": {
     "name": "#%%\n"
    }
   }
  },
  {
   "cell_type": "code",
   "execution_count": null,
   "outputs": [],
   "source": [
    "df = grafo.low1_low2()\n",
    "df"
   ],
   "metadata": {
    "collapsed": false,
    "pycharm": {
     "name": "#%%\n"
    }
   }
  },
  {
   "cell_type": "code",
   "execution_count": null,
   "outputs": [],
   "source": [
    "#print(df.to_latex(index=False))"
   ],
   "metadata": {
    "collapsed": false,
    "pycharm": {
     "name": "#%%\n"
    }
   }
  },
  {
   "cell_type": "code",
   "execution_count": null,
   "outputs": [],
   "source": [
    "aux = auxTricconected(G4, 1)\n",
    "aux.etiquetado()"
   ],
   "metadata": {
    "collapsed": false,
    "pycharm": {
     "name": "#%%\n"
    }
   }
  },
  {
   "cell_type": "code",
   "execution_count": null,
   "outputs": [],
   "source": [
    "aristas_ordenadas = aux.ordenado()\n",
    "print(aristas_ordenadas)"
   ],
   "metadata": {
    "collapsed": false,
    "pycharm": {
     "name": "#%%\n"
    }
   }
  },
  {
   "cell_type": "code",
   "execution_count": null,
   "outputs": [],
   "source": [
    "aux.pathfinder(1)"
   ],
   "metadata": {
    "collapsed": false,
    "pycharm": {
     "name": "#%%\n"
    }
   }
  },
  {
   "cell_type": "code",
   "execution_count": null,
   "outputs": [],
   "source": [
    "grafo.dibujar_grafo_recorrido('G5.png')"
   ],
   "metadata": {
    "collapsed": false,
    "pycharm": {
     "name": "#%%\n"
    }
   }
  },
  {
   "cell_type": "code",
   "execution_count": null,
   "outputs": [],
   "source": [
    "G32 = Graph(G4)\n",
    "for u, v, l in G32.edges():\n",
    "\tG32.set_edge_label(u, v, f'({u},{v})')"
   ],
   "metadata": {
    "collapsed": false,
    "pycharm": {
     "name": "#%%\n"
    }
   }
  },
  {
   "cell_type": "code",
   "execution_count": null,
   "outputs": [],
   "source": [
    "tric32 = TriconnectivitySPQR_Aux(G32)\n",
    "print(len(tric32.comp_list_new1))\n",
    "print(tric32.comp_list_new1)"
   ],
   "metadata": {
    "collapsed": false,
    "pycharm": {
     "name": "#%%\n"
    }
   }
  },
  {
   "cell_type": "code",
   "execution_count": null,
   "outputs": [],
   "source": [
    "tric32.type1"
   ],
   "metadata": {
    "collapsed": false,
    "pycharm": {
     "name": "#%%\n"
    }
   }
  },
  {
   "cell_type": "code",
   "execution_count": null,
   "outputs": [],
   "source": [
    "tric32.type2"
   ],
   "metadata": {
    "collapsed": false,
    "pycharm": {
     "name": "#%%\n"
    }
   }
  },
  {
   "cell_type": "code",
   "execution_count": null,
   "outputs": [],
   "source": [
    "for componente in tric32.comp_list_new1:\n",
    "\tgrafo = Graph(componente)\n",
    "\tgrafo.graphplot(edge_labels=True).show()\n",
    "\topts = grafo.latex_options()\n",
    "\tgrafo.set_latex_options(tkz_style='Normal')\n",
    "\tcheck_tkz_graph()\n",
    "\tprint(opts.tkz_picture())\n",
    "#check_tkz_graph()\n",
    "#print(latex(grafo))"
   ],
   "metadata": {
    "collapsed": false,
    "pycharm": {
     "name": "#%%\n"
    }
   }
  },
  {
   "cell_type": "code",
   "execution_count": null,
   "outputs": [],
   "source": [
    "tric = TriconnectivitySPQR(G32)\n",
    "T = tric.get_spqr_tree()\n",
    "G22.is_isomorphic(spqr_tree_to_graph(T))"
   ],
   "metadata": {
    "collapsed": false,
    "pycharm": {
     "name": "#%%\n"
    }
   }
  },
  {
   "cell_type": "code",
   "execution_count": null,
   "outputs": [],
   "source": [
    "tric.print_triconnected_components()"
   ],
   "metadata": {
    "collapsed": false,
    "pycharm": {
     "name": "#%%\n"
    }
   }
  },
  {
   "cell_type": "code",
   "execution_count": null,
   "outputs": [],
   "source": [
    "tric.get_triconnected_components()"
   ],
   "metadata": {
    "collapsed": false,
    "pycharm": {
     "name": "#%%\n"
    }
   }
  },
  {
   "cell_type": "code",
   "execution_count": null,
   "outputs": [],
   "source": [
    "componentes = tric.get_triconnected_components()\n",
    "for componente in componentes:\n",
    "\tgrafo = Graph(componente[1])\n",
    "\tgrafo.graphplot(edge_labels=True).show()\n",
    "\topts = grafo.latex_options()\n",
    "\tgrafo.set_latex_options(tkz_style='Normal')\n",
    "\tcheck_tkz_graph()\n",
    "\tprint(opts.tkz_picture())\n",
    "#check_tkz_graph()\n",
    "#print(latex(grafo))"
   ],
   "metadata": {
    "collapsed": false,
    "pycharm": {
     "name": "#%%\n"
    }
   }
  },
  {
   "cell_type": "code",
   "execution_count": null,
   "outputs": [],
   "source": [],
   "metadata": {
    "collapsed": false,
    "pycharm": {
     "name": "#%%\n"
    }
   }
  }
 ],
 "metadata": {
  "kernelspec": {
   "display_name": "SageMath 9.3",
   "language": "sage",
   "name": "sagemath"
  },
  "language_info": {
   "codemirror_mode": {
    "name": "ipython",
    "version": 3
   },
   "file_extension": ".py",
   "mimetype": "text/x-python",
   "name": "python",
   "nbconvert_exporter": "python",
   "pygments_lexer": "ipython3",
   "version": "3.7.10"
  }
 },
 "nbformat": 4,
 "nbformat_minor": 4
}